{
  "nbformat": 4,
  "nbformat_minor": 0,
  "metadata": {
    "colab": {
      "name": "parkinson-disease_classification.ipynb",
      "provenance": [],
      "collapsed_sections": [],
      "toc_visible": true,
      "authorship_tag": "ABX9TyMZC/uFOK8UZwlHV5b0f0Mq",
      "include_colab_link": true
    },
    "kernelspec": {
      "name": "python3",
      "display_name": "Python 3"
    },
    "language_info": {
      "name": "python"
    }
  },
  "cells": [
    {
      "cell_type": "markdown",
      "metadata": {
        "id": "view-in-github",
        "colab_type": "text"
      },
      "source": [
        "<a href=\"https://colab.research.google.com/github/ZahraDehghani99/Parkinson-Disease-Classification/blob/main/parkinson_disease_classification.ipynb\" target=\"_parent\"><img src=\"https://colab.research.google.com/assets/colab-badge.svg\" alt=\"Open In Colab\"/></a>"
      ]
    },
    {
      "cell_type": "markdown",
      "source": [
        "# Parkinson's Disease Classification\n"
      ],
      "metadata": {
        "id": "iobCMrjyORsf"
      }
    },
    {
      "cell_type": "markdown",
      "source": [
        "## Read data and EDA"
      ],
      "metadata": {
        "id": "gtUYLJ4Ph6rm"
      }
    },
    {
      "cell_type": "code",
      "execution_count": 1,
      "metadata": {
        "id": "BbGVnXrtNhYC"
      },
      "outputs": [],
      "source": [
        "import pandas as pd\n",
        "import numpy as np\n",
        "\n",
        "import matplotlib.pyplot as plt\n",
        "import seaborn as sns\n",
        "\n",
        "from sklearn import metrics\n",
        "from sklearn.model_selection import StratifiedKFold\n",
        "from sklearn.model_selection import cross_val_score\n",
        "from sklearn.metrics import classification_report\n",
        "from sklearn.metrics import accuracy_score\n",
        "\n",
        "import warnings\n",
        "warnings.filterwarnings('ignore')\n",
        "\n",
        "np.random.seed(0)"
      ]
    },
    {
      "cell_type": "code",
      "source": [
        "from google.colab import drive\n",
        "drive.mount('/content/drive')"
      ],
      "metadata": {
        "colab": {
          "base_uri": "https://localhost:8080/"
        },
        "id": "aV1Jx3ViTEiY",
        "outputId": "a87dc1ae-0294-4159-c479-f93b547be94d"
      },
      "execution_count": 2,
      "outputs": [
        {
          "output_type": "stream",
          "name": "stdout",
          "text": [
            "Drive already mounted at /content/drive; to attempt to forcibly remount, call drive.mount(\"/content/drive\", force_remount=True).\n"
          ]
        }
      ]
    },
    {
      "cell_type": "markdown",
      "source": [
        "Read data set"
      ],
      "metadata": {
        "id": "PHQjxrs-WBfm"
      }
    },
    {
      "cell_type": "code",
      "source": [
        "data  = pd.read_csv('/content/drive/MyDrive/ML_Dr.sajedi/pd_speech_features.csv')\n",
        "data.info()"
      ],
      "metadata": {
        "colab": {
          "base_uri": "https://localhost:8080/"
        },
        "id": "lxRLsRR9TMd2",
        "outputId": "fc5a70f4-f5df-46d2-ee54-660ff827aaa1"
      },
      "execution_count": 3,
      "outputs": [
        {
          "output_type": "stream",
          "name": "stdout",
          "text": [
            "<class 'pandas.core.frame.DataFrame'>\n",
            "RangeIndex: 756 entries, 0 to 755\n",
            "Columns: 755 entries, id to class\n",
            "dtypes: float64(749), int64(6)\n",
            "memory usage: 4.4 MB\n"
          ]
        }
      ]
    },
    {
      "cell_type": "markdown",
      "source": [
        "Each person has 3 records, so we have 252 patients."
      ],
      "metadata": {
        "id": "BEO7MY1ColiD"
      }
    },
    {
      "cell_type": "code",
      "source": [
        "data.head()"
      ],
      "metadata": {
        "colab": {
          "base_uri": "https://localhost:8080/",
          "height": 300
        },
        "id": "71I-3EHrViJC",
        "outputId": "4cee57dd-8d5a-423a-8599-3aba695e95de"
      },
      "execution_count": null,
      "outputs": [
        {
          "output_type": "execute_result",
          "data": {
            "text/html": [
              "\n",
              "  <div id=\"df-68476cbd-3880-4b1c-a3bf-83591f192a45\">\n",
              "    <div class=\"colab-df-container\">\n",
              "      <div>\n",
              "<style scoped>\n",
              "    .dataframe tbody tr th:only-of-type {\n",
              "        vertical-align: middle;\n",
              "    }\n",
              "\n",
              "    .dataframe tbody tr th {\n",
              "        vertical-align: top;\n",
              "    }\n",
              "\n",
              "    .dataframe thead th {\n",
              "        text-align: right;\n",
              "    }\n",
              "</style>\n",
              "<table border=\"1\" class=\"dataframe\">\n",
              "  <thead>\n",
              "    <tr style=\"text-align: right;\">\n",
              "      <th></th>\n",
              "      <th>id</th>\n",
              "      <th>gender</th>\n",
              "      <th>PPE</th>\n",
              "      <th>DFA</th>\n",
              "      <th>RPDE</th>\n",
              "      <th>numPulses</th>\n",
              "      <th>numPeriodsPulses</th>\n",
              "      <th>meanPeriodPulses</th>\n",
              "      <th>stdDevPeriodPulses</th>\n",
              "      <th>locPctJitter</th>\n",
              "      <th>locAbsJitter</th>\n",
              "      <th>rapJitter</th>\n",
              "      <th>ppq5Jitter</th>\n",
              "      <th>ddpJitter</th>\n",
              "      <th>locShimmer</th>\n",
              "      <th>locDbShimmer</th>\n",
              "      <th>apq3Shimmer</th>\n",
              "      <th>apq5Shimmer</th>\n",
              "      <th>apq11Shimmer</th>\n",
              "      <th>ddaShimmer</th>\n",
              "      <th>meanAutoCorrHarmonicity</th>\n",
              "      <th>meanNoiseToHarmHarmonicity</th>\n",
              "      <th>meanHarmToNoiseHarmonicity</th>\n",
              "      <th>minIntensity</th>\n",
              "      <th>maxIntensity</th>\n",
              "      <th>meanIntensity</th>\n",
              "      <th>f1</th>\n",
              "      <th>f2</th>\n",
              "      <th>f3</th>\n",
              "      <th>f4</th>\n",
              "      <th>b1</th>\n",
              "      <th>b2</th>\n",
              "      <th>b3</th>\n",
              "      <th>b4</th>\n",
              "      <th>GQ_prc5_95</th>\n",
              "      <th>GQ_std_cycle_open</th>\n",
              "      <th>GQ_std_cycle_closed</th>\n",
              "      <th>GNE_mean</th>\n",
              "      <th>GNE_std</th>\n",
              "      <th>GNE_SNR_TKEO</th>\n",
              "      <th>...</th>\n",
              "      <th>tqwt_skewnessValue_dec_34</th>\n",
              "      <th>tqwt_skewnessValue_dec_35</th>\n",
              "      <th>tqwt_skewnessValue_dec_36</th>\n",
              "      <th>tqwt_kurtosisValue_dec_1</th>\n",
              "      <th>tqwt_kurtosisValue_dec_2</th>\n",
              "      <th>tqwt_kurtosisValue_dec_3</th>\n",
              "      <th>tqwt_kurtosisValue_dec_4</th>\n",
              "      <th>tqwt_kurtosisValue_dec_5</th>\n",
              "      <th>tqwt_kurtosisValue_dec_6</th>\n",
              "      <th>tqwt_kurtosisValue_dec_7</th>\n",
              "      <th>tqwt_kurtosisValue_dec_8</th>\n",
              "      <th>tqwt_kurtosisValue_dec_9</th>\n",
              "      <th>tqwt_kurtosisValue_dec_10</th>\n",
              "      <th>tqwt_kurtosisValue_dec_11</th>\n",
              "      <th>tqwt_kurtosisValue_dec_12</th>\n",
              "      <th>tqwt_kurtosisValue_dec_13</th>\n",
              "      <th>tqwt_kurtosisValue_dec_14</th>\n",
              "      <th>tqwt_kurtosisValue_dec_15</th>\n",
              "      <th>tqwt_kurtosisValue_dec_16</th>\n",
              "      <th>tqwt_kurtosisValue_dec_17</th>\n",
              "      <th>tqwt_kurtosisValue_dec_18</th>\n",
              "      <th>tqwt_kurtosisValue_dec_19</th>\n",
              "      <th>tqwt_kurtosisValue_dec_20</th>\n",
              "      <th>tqwt_kurtosisValue_dec_21</th>\n",
              "      <th>tqwt_kurtosisValue_dec_22</th>\n",
              "      <th>tqwt_kurtosisValue_dec_23</th>\n",
              "      <th>tqwt_kurtosisValue_dec_24</th>\n",
              "      <th>tqwt_kurtosisValue_dec_25</th>\n",
              "      <th>tqwt_kurtosisValue_dec_26</th>\n",
              "      <th>tqwt_kurtosisValue_dec_27</th>\n",
              "      <th>tqwt_kurtosisValue_dec_28</th>\n",
              "      <th>tqwt_kurtosisValue_dec_29</th>\n",
              "      <th>tqwt_kurtosisValue_dec_30</th>\n",
              "      <th>tqwt_kurtosisValue_dec_31</th>\n",
              "      <th>tqwt_kurtosisValue_dec_32</th>\n",
              "      <th>tqwt_kurtosisValue_dec_33</th>\n",
              "      <th>tqwt_kurtosisValue_dec_34</th>\n",
              "      <th>tqwt_kurtosisValue_dec_35</th>\n",
              "      <th>tqwt_kurtosisValue_dec_36</th>\n",
              "      <th>class</th>\n",
              "    </tr>\n",
              "  </thead>\n",
              "  <tbody>\n",
              "    <tr>\n",
              "      <th>0</th>\n",
              "      <td>0</td>\n",
              "      <td>1</td>\n",
              "      <td>0.85247</td>\n",
              "      <td>0.71826</td>\n",
              "      <td>0.57227</td>\n",
              "      <td>240</td>\n",
              "      <td>239</td>\n",
              "      <td>0.008064</td>\n",
              "      <td>0.000087</td>\n",
              "      <td>0.00218</td>\n",
              "      <td>0.000018</td>\n",
              "      <td>0.00067</td>\n",
              "      <td>0.00129</td>\n",
              "      <td>0.00200</td>\n",
              "      <td>0.05883</td>\n",
              "      <td>0.517</td>\n",
              "      <td>0.03011</td>\n",
              "      <td>0.03496</td>\n",
              "      <td>0.04828</td>\n",
              "      <td>0.09034</td>\n",
              "      <td>0.970805</td>\n",
              "      <td>0.036223</td>\n",
              "      <td>18.995</td>\n",
              "      <td>69.997496</td>\n",
              "      <td>76.088046</td>\n",
              "      <td>72.465512</td>\n",
              "      <td>539.342735</td>\n",
              "      <td>1031.849040</td>\n",
              "      <td>2447.162183</td>\n",
              "      <td>3655.054806</td>\n",
              "      <td>101.092218</td>\n",
              "      <td>83.147440</td>\n",
              "      <td>255.214830</td>\n",
              "      <td>396.643631</td>\n",
              "      <td>0.77778</td>\n",
              "      <td>11.7245</td>\n",
              "      <td>2.8277</td>\n",
              "      <td>1.17300</td>\n",
              "      <td>0.26512</td>\n",
              "      <td>0.083127</td>\n",
              "      <td>...</td>\n",
              "      <td>0.071728</td>\n",
              "      <td>0.010352</td>\n",
              "      <td>-2.73030</td>\n",
              "      <td>66.5007</td>\n",
              "      <td>36.9934</td>\n",
              "      <td>26.3508</td>\n",
              "      <td>51.9577</td>\n",
              "      <td>21.5451</td>\n",
              "      <td>8.2488</td>\n",
              "      <td>8.0024</td>\n",
              "      <td>6.9635</td>\n",
              "      <td>6.9189</td>\n",
              "      <td>5.0622</td>\n",
              "      <td>4.6068</td>\n",
              "      <td>7.7218</td>\n",
              "      <td>2.7224</td>\n",
              "      <td>2.4171</td>\n",
              "      <td>2.9383</td>\n",
              "      <td>4.2077</td>\n",
              "      <td>3.1541</td>\n",
              "      <td>2.8531</td>\n",
              "      <td>2.7496</td>\n",
              "      <td>2.1550</td>\n",
              "      <td>2.9457</td>\n",
              "      <td>2.1993</td>\n",
              "      <td>1.9830</td>\n",
              "      <td>1.8314</td>\n",
              "      <td>2.0062</td>\n",
              "      <td>1.6058</td>\n",
              "      <td>1.5466</td>\n",
              "      <td>1.5620</td>\n",
              "      <td>2.6445</td>\n",
              "      <td>3.8686</td>\n",
              "      <td>4.2105</td>\n",
              "      <td>5.1221</td>\n",
              "      <td>4.4625</td>\n",
              "      <td>2.6202</td>\n",
              "      <td>3.0004</td>\n",
              "      <td>18.9405</td>\n",
              "      <td>1</td>\n",
              "    </tr>\n",
              "    <tr>\n",
              "      <th>1</th>\n",
              "      <td>0</td>\n",
              "      <td>1</td>\n",
              "      <td>0.76686</td>\n",
              "      <td>0.69481</td>\n",
              "      <td>0.53966</td>\n",
              "      <td>234</td>\n",
              "      <td>233</td>\n",
              "      <td>0.008258</td>\n",
              "      <td>0.000073</td>\n",
              "      <td>0.00195</td>\n",
              "      <td>0.000016</td>\n",
              "      <td>0.00052</td>\n",
              "      <td>0.00112</td>\n",
              "      <td>0.00157</td>\n",
              "      <td>0.05516</td>\n",
              "      <td>0.502</td>\n",
              "      <td>0.02320</td>\n",
              "      <td>0.03675</td>\n",
              "      <td>0.06195</td>\n",
              "      <td>0.06961</td>\n",
              "      <td>0.984322</td>\n",
              "      <td>0.017974</td>\n",
              "      <td>21.497</td>\n",
              "      <td>67.415903</td>\n",
              "      <td>73.046374</td>\n",
              "      <td>71.528945</td>\n",
              "      <td>564.363614</td>\n",
              "      <td>1016.367294</td>\n",
              "      <td>2383.565201</td>\n",
              "      <td>3498.681572</td>\n",
              "      <td>58.465428</td>\n",
              "      <td>86.487292</td>\n",
              "      <td>248.357127</td>\n",
              "      <td>218.229722</td>\n",
              "      <td>0.81250</td>\n",
              "      <td>13.8284</td>\n",
              "      <td>2.8908</td>\n",
              "      <td>1.02210</td>\n",
              "      <td>0.22004</td>\n",
              "      <td>0.127410</td>\n",
              "      <td>...</td>\n",
              "      <td>0.729330</td>\n",
              "      <td>0.780410</td>\n",
              "      <td>5.22940</td>\n",
              "      <td>8643.9860</td>\n",
              "      <td>3962.0554</td>\n",
              "      <td>2976.2411</td>\n",
              "      <td>4329.0607</td>\n",
              "      <td>4005.1329</td>\n",
              "      <td>1127.6762</td>\n",
              "      <td>116.5331</td>\n",
              "      <td>20.2332</td>\n",
              "      <td>13.6395</td>\n",
              "      <td>12.5514</td>\n",
              "      <td>13.6965</td>\n",
              "      <td>60.8974</td>\n",
              "      <td>6.2958</td>\n",
              "      <td>3.0323</td>\n",
              "      <td>3.4039</td>\n",
              "      <td>4.3794</td>\n",
              "      <td>2.4329</td>\n",
              "      <td>2.0585</td>\n",
              "      <td>2.1839</td>\n",
              "      <td>2.2061</td>\n",
              "      <td>3.0999</td>\n",
              "      <td>1.9824</td>\n",
              "      <td>1.6227</td>\n",
              "      <td>1.5783</td>\n",
              "      <td>2.0470</td>\n",
              "      <td>1.5772</td>\n",
              "      <td>1.5530</td>\n",
              "      <td>1.5589</td>\n",
              "      <td>3.6107</td>\n",
              "      <td>23.5155</td>\n",
              "      <td>14.1962</td>\n",
              "      <td>11.0261</td>\n",
              "      <td>9.5082</td>\n",
              "      <td>6.5245</td>\n",
              "      <td>6.3431</td>\n",
              "      <td>45.1780</td>\n",
              "      <td>1</td>\n",
              "    </tr>\n",
              "    <tr>\n",
              "      <th>2</th>\n",
              "      <td>0</td>\n",
              "      <td>1</td>\n",
              "      <td>0.85083</td>\n",
              "      <td>0.67604</td>\n",
              "      <td>0.58982</td>\n",
              "      <td>232</td>\n",
              "      <td>231</td>\n",
              "      <td>0.008340</td>\n",
              "      <td>0.000060</td>\n",
              "      <td>0.00176</td>\n",
              "      <td>0.000015</td>\n",
              "      <td>0.00057</td>\n",
              "      <td>0.00111</td>\n",
              "      <td>0.00171</td>\n",
              "      <td>0.09902</td>\n",
              "      <td>0.897</td>\n",
              "      <td>0.05094</td>\n",
              "      <td>0.06497</td>\n",
              "      <td>0.07772</td>\n",
              "      <td>0.15282</td>\n",
              "      <td>0.974846</td>\n",
              "      <td>0.026313</td>\n",
              "      <td>17.651</td>\n",
              "      <td>62.661706</td>\n",
              "      <td>71.633549</td>\n",
              "      <td>68.086583</td>\n",
              "      <td>548.444604</td>\n",
              "      <td>1032.406341</td>\n",
              "      <td>2357.826954</td>\n",
              "      <td>3678.128717</td>\n",
              "      <td>160.387771</td>\n",
              "      <td>54.685168</td>\n",
              "      <td>151.694847</td>\n",
              "      <td>84.240339</td>\n",
              "      <td>0.81818</td>\n",
              "      <td>26.9273</td>\n",
              "      <td>2.6975</td>\n",
              "      <td>0.84951</td>\n",
              "      <td>0.15756</td>\n",
              "      <td>0.116890</td>\n",
              "      <td>...</td>\n",
              "      <td>0.269510</td>\n",
              "      <td>-0.005522</td>\n",
              "      <td>0.35054</td>\n",
              "      <td>29.2717</td>\n",
              "      <td>32.4971</td>\n",
              "      <td>38.9453</td>\n",
              "      <td>85.1480</td>\n",
              "      <td>62.5132</td>\n",
              "      <td>9.7308</td>\n",
              "      <td>6.8890</td>\n",
              "      <td>6.1357</td>\n",
              "      <td>5.4926</td>\n",
              "      <td>3.9078</td>\n",
              "      <td>4.0864</td>\n",
              "      <td>6.9828</td>\n",
              "      <td>3.4411</td>\n",
              "      <td>3.5173</td>\n",
              "      <td>3.7204</td>\n",
              "      <td>4.2212</td>\n",
              "      <td>3.4881</td>\n",
              "      <td>3.4851</td>\n",
              "      <td>3.3007</td>\n",
              "      <td>2.0427</td>\n",
              "      <td>3.1436</td>\n",
              "      <td>2.1203</td>\n",
              "      <td>1.6627</td>\n",
              "      <td>1.6731</td>\n",
              "      <td>3.2597</td>\n",
              "      <td>1.5921</td>\n",
              "      <td>1.5399</td>\n",
              "      <td>1.5643</td>\n",
              "      <td>2.3308</td>\n",
              "      <td>9.4959</td>\n",
              "      <td>10.7458</td>\n",
              "      <td>11.0177</td>\n",
              "      <td>4.8066</td>\n",
              "      <td>2.9199</td>\n",
              "      <td>3.1495</td>\n",
              "      <td>4.7666</td>\n",
              "      <td>1</td>\n",
              "    </tr>\n",
              "    <tr>\n",
              "      <th>3</th>\n",
              "      <td>1</td>\n",
              "      <td>0</td>\n",
              "      <td>0.41121</td>\n",
              "      <td>0.79672</td>\n",
              "      <td>0.59257</td>\n",
              "      <td>178</td>\n",
              "      <td>177</td>\n",
              "      <td>0.010858</td>\n",
              "      <td>0.000183</td>\n",
              "      <td>0.00419</td>\n",
              "      <td>0.000046</td>\n",
              "      <td>0.00149</td>\n",
              "      <td>0.00268</td>\n",
              "      <td>0.00446</td>\n",
              "      <td>0.05451</td>\n",
              "      <td>0.527</td>\n",
              "      <td>0.02395</td>\n",
              "      <td>0.02857</td>\n",
              "      <td>0.04462</td>\n",
              "      <td>0.07185</td>\n",
              "      <td>0.968343</td>\n",
              "      <td>0.042003</td>\n",
              "      <td>19.865</td>\n",
              "      <td>76.306989</td>\n",
              "      <td>81.000749</td>\n",
              "      <td>79.190593</td>\n",
              "      <td>819.529588</td>\n",
              "      <td>1201.813897</td>\n",
              "      <td>3154.035654</td>\n",
              "      <td>4122.163933</td>\n",
              "      <td>238.667052</td>\n",
              "      <td>191.984916</td>\n",
              "      <td>573.752909</td>\n",
              "      <td>526.147599</td>\n",
              "      <td>0.98548</td>\n",
              "      <td>139.5744</td>\n",
              "      <td>1.6961</td>\n",
              "      <td>0.83405</td>\n",
              "      <td>0.17295</td>\n",
              "      <td>0.147370</td>\n",
              "      <td>...</td>\n",
              "      <td>0.366920</td>\n",
              "      <td>-0.492650</td>\n",
              "      <td>0.19164</td>\n",
              "      <td>591.0116</td>\n",
              "      <td>65.3827</td>\n",
              "      <td>53.9852</td>\n",
              "      <td>45.4458</td>\n",
              "      <td>34.6650</td>\n",
              "      <td>88.3259</td>\n",
              "      <td>46.6869</td>\n",
              "      <td>23.2911</td>\n",
              "      <td>19.2022</td>\n",
              "      <td>42.3957</td>\n",
              "      <td>100.3649</td>\n",
              "      <td>7.1967</td>\n",
              "      <td>6.3892</td>\n",
              "      <td>6.5496</td>\n",
              "      <td>6.0264</td>\n",
              "      <td>4.7656</td>\n",
              "      <td>4.8909</td>\n",
              "      <td>4.2531</td>\n",
              "      <td>3.0295</td>\n",
              "      <td>2.0362</td>\n",
              "      <td>1.8478</td>\n",
              "      <td>2.5776</td>\n",
              "      <td>2.2064</td>\n",
              "      <td>1.9491</td>\n",
              "      <td>1.9120</td>\n",
              "      <td>1.8829</td>\n",
              "      <td>6.9761</td>\n",
              "      <td>3.7805</td>\n",
              "      <td>3.5664</td>\n",
              "      <td>5.2558</td>\n",
              "      <td>14.0403</td>\n",
              "      <td>4.2235</td>\n",
              "      <td>4.6857</td>\n",
              "      <td>4.8460</td>\n",
              "      <td>6.2650</td>\n",
              "      <td>4.0603</td>\n",
              "      <td>1</td>\n",
              "    </tr>\n",
              "    <tr>\n",
              "      <th>4</th>\n",
              "      <td>1</td>\n",
              "      <td>0</td>\n",
              "      <td>0.32790</td>\n",
              "      <td>0.79782</td>\n",
              "      <td>0.53028</td>\n",
              "      <td>236</td>\n",
              "      <td>235</td>\n",
              "      <td>0.008162</td>\n",
              "      <td>0.002669</td>\n",
              "      <td>0.00535</td>\n",
              "      <td>0.000044</td>\n",
              "      <td>0.00166</td>\n",
              "      <td>0.00227</td>\n",
              "      <td>0.00499</td>\n",
              "      <td>0.05610</td>\n",
              "      <td>0.497</td>\n",
              "      <td>0.02909</td>\n",
              "      <td>0.03327</td>\n",
              "      <td>0.05278</td>\n",
              "      <td>0.08728</td>\n",
              "      <td>0.975754</td>\n",
              "      <td>0.027139</td>\n",
              "      <td>19.557</td>\n",
              "      <td>76.645686</td>\n",
              "      <td>80.937258</td>\n",
              "      <td>79.183495</td>\n",
              "      <td>846.796144</td>\n",
              "      <td>1215.346469</td>\n",
              "      <td>3201.513132</td>\n",
              "      <td>4085.456839</td>\n",
              "      <td>402.216738</td>\n",
              "      <td>210.061394</td>\n",
              "      <td>203.637106</td>\n",
              "      <td>384.611697</td>\n",
              "      <td>0.97847</td>\n",
              "      <td>102.0549</td>\n",
              "      <td>15.4045</td>\n",
              "      <td>0.83556</td>\n",
              "      <td>0.16210</td>\n",
              "      <td>0.151990</td>\n",
              "      <td>...</td>\n",
              "      <td>-0.378360</td>\n",
              "      <td>-0.035805</td>\n",
              "      <td>0.26596</td>\n",
              "      <td>32.0393</td>\n",
              "      <td>7.2343</td>\n",
              "      <td>6.5540</td>\n",
              "      <td>6.4520</td>\n",
              "      <td>6.9274</td>\n",
              "      <td>10.2265</td>\n",
              "      <td>14.2579</td>\n",
              "      <td>10.6181</td>\n",
              "      <td>8.6143</td>\n",
              "      <td>9.5822</td>\n",
              "      <td>34.0835</td>\n",
              "      <td>4.1139</td>\n",
              "      <td>3.6718</td>\n",
              "      <td>4.4360</td>\n",
              "      <td>4.5793</td>\n",
              "      <td>3.9447</td>\n",
              "      <td>4.1253</td>\n",
              "      <td>3.4869</td>\n",
              "      <td>2.4627</td>\n",
              "      <td>2.1073</td>\n",
              "      <td>1.9056</td>\n",
              "      <td>2.2214</td>\n",
              "      <td>2.0588</td>\n",
              "      <td>1.8157</td>\n",
              "      <td>1.7577</td>\n",
              "      <td>1.8821</td>\n",
              "      <td>7.8832</td>\n",
              "      <td>6.1727</td>\n",
              "      <td>5.8416</td>\n",
              "      <td>6.0805</td>\n",
              "      <td>5.7621</td>\n",
              "      <td>7.7817</td>\n",
              "      <td>11.6891</td>\n",
              "      <td>8.2103</td>\n",
              "      <td>5.0559</td>\n",
              "      <td>6.1164</td>\n",
              "      <td>1</td>\n",
              "    </tr>\n",
              "  </tbody>\n",
              "</table>\n",
              "<p>5 rows × 755 columns</p>\n",
              "</div>\n",
              "      <button class=\"colab-df-convert\" onclick=\"convertToInteractive('df-68476cbd-3880-4b1c-a3bf-83591f192a45')\"\n",
              "              title=\"Convert this dataframe to an interactive table.\"\n",
              "              style=\"display:none;\">\n",
              "        \n",
              "  <svg xmlns=\"http://www.w3.org/2000/svg\" height=\"24px\"viewBox=\"0 0 24 24\"\n",
              "       width=\"24px\">\n",
              "    <path d=\"M0 0h24v24H0V0z\" fill=\"none\"/>\n",
              "    <path d=\"M18.56 5.44l.94 2.06.94-2.06 2.06-.94-2.06-.94-.94-2.06-.94 2.06-2.06.94zm-11 1L8.5 8.5l.94-2.06 2.06-.94-2.06-.94L8.5 2.5l-.94 2.06-2.06.94zm10 10l.94 2.06.94-2.06 2.06-.94-2.06-.94-.94-2.06-.94 2.06-2.06.94z\"/><path d=\"M17.41 7.96l-1.37-1.37c-.4-.4-.92-.59-1.43-.59-.52 0-1.04.2-1.43.59L10.3 9.45l-7.72 7.72c-.78.78-.78 2.05 0 2.83L4 21.41c.39.39.9.59 1.41.59.51 0 1.02-.2 1.41-.59l7.78-7.78 2.81-2.81c.8-.78.8-2.07 0-2.86zM5.41 20L4 18.59l7.72-7.72 1.47 1.35L5.41 20z\"/>\n",
              "  </svg>\n",
              "      </button>\n",
              "      \n",
              "  <style>\n",
              "    .colab-df-container {\n",
              "      display:flex;\n",
              "      flex-wrap:wrap;\n",
              "      gap: 12px;\n",
              "    }\n",
              "\n",
              "    .colab-df-convert {\n",
              "      background-color: #E8F0FE;\n",
              "      border: none;\n",
              "      border-radius: 50%;\n",
              "      cursor: pointer;\n",
              "      display: none;\n",
              "      fill: #1967D2;\n",
              "      height: 32px;\n",
              "      padding: 0 0 0 0;\n",
              "      width: 32px;\n",
              "    }\n",
              "\n",
              "    .colab-df-convert:hover {\n",
              "      background-color: #E2EBFA;\n",
              "      box-shadow: 0px 1px 2px rgba(60, 64, 67, 0.3), 0px 1px 3px 1px rgba(60, 64, 67, 0.15);\n",
              "      fill: #174EA6;\n",
              "    }\n",
              "\n",
              "    [theme=dark] .colab-df-convert {\n",
              "      background-color: #3B4455;\n",
              "      fill: #D2E3FC;\n",
              "    }\n",
              "\n",
              "    [theme=dark] .colab-df-convert:hover {\n",
              "      background-color: #434B5C;\n",
              "      box-shadow: 0px 1px 3px 1px rgba(0, 0, 0, 0.15);\n",
              "      filter: drop-shadow(0px 1px 2px rgba(0, 0, 0, 0.3));\n",
              "      fill: #FFFFFF;\n",
              "    }\n",
              "  </style>\n",
              "\n",
              "      <script>\n",
              "        const buttonEl =\n",
              "          document.querySelector('#df-68476cbd-3880-4b1c-a3bf-83591f192a45 button.colab-df-convert');\n",
              "        buttonEl.style.display =\n",
              "          google.colab.kernel.accessAllowed ? 'block' : 'none';\n",
              "\n",
              "        async function convertToInteractive(key) {\n",
              "          const element = document.querySelector('#df-68476cbd-3880-4b1c-a3bf-83591f192a45');\n",
              "          const dataTable =\n",
              "            await google.colab.kernel.invokeFunction('convertToInteractive',\n",
              "                                                     [key], {});\n",
              "          if (!dataTable) return;\n",
              "\n",
              "          const docLinkHtml = 'Like what you see? Visit the ' +\n",
              "            '<a target=\"_blank\" href=https://colab.research.google.com/notebooks/data_table.ipynb>data table notebook</a>'\n",
              "            + ' to learn more about interactive tables.';\n",
              "          element.innerHTML = '';\n",
              "          dataTable['output_type'] = 'display_data';\n",
              "          await google.colab.output.renderOutput(dataTable, element);\n",
              "          const docLink = document.createElement('div');\n",
              "          docLink.innerHTML = docLinkHtml;\n",
              "          element.appendChild(docLink);\n",
              "        }\n",
              "      </script>\n",
              "    </div>\n",
              "  </div>\n",
              "  "
            ],
            "text/plain": [
              "   id  gender  ...  tqwt_kurtosisValue_dec_36  class\n",
              "0   0       1  ...                    18.9405      1\n",
              "1   0       1  ...                    45.1780      1\n",
              "2   0       1  ...                     4.7666      1\n",
              "3   1       0  ...                     4.0603      1\n",
              "4   1       0  ...                     6.1164      1\n",
              "\n",
              "[5 rows x 755 columns]"
            ]
          },
          "metadata": {},
          "execution_count": 4
        }
      ]
    },
    {
      "cell_type": "code",
      "source": [
        "print(f'data shape : {data.shape}')"
      ],
      "metadata": {
        "colab": {
          "base_uri": "https://localhost:8080/"
        },
        "id": "i9ebJ7hNW08d",
        "outputId": "fea1ccf6-fd4f-4e11-b59b-56d99a9eda58"
      },
      "execution_count": null,
      "outputs": [
        {
          "output_type": "stream",
          "name": "stdout",
          "text": [
            "data shape : (756, 755)\n"
          ]
        }
      ]
    },
    {
      "cell_type": "code",
      "source": [
        "print(f'data columns type : \\n{data.dtypes}')"
      ],
      "metadata": {
        "colab": {
          "base_uri": "https://localhost:8080/"
        },
        "id": "9bVnw4jtdist",
        "outputId": "08a46aa1-2c53-47a7-b3d7-18b4ddb32cff"
      },
      "execution_count": null,
      "outputs": [
        {
          "output_type": "stream",
          "name": "stdout",
          "text": [
            "data columns type : \n",
            "id                             int64\n",
            "gender                         int64\n",
            "PPE                          float64\n",
            "DFA                          float64\n",
            "RPDE                         float64\n",
            "                              ...   \n",
            "tqwt_kurtosisValue_dec_33    float64\n",
            "tqwt_kurtosisValue_dec_34    float64\n",
            "tqwt_kurtosisValue_dec_35    float64\n",
            "tqwt_kurtosisValue_dec_36    float64\n",
            "class                          int64\n",
            "Length: 755, dtype: object\n"
          ]
        }
      ]
    },
    {
      "cell_type": "code",
      "source": [
        "print(f'number of unique values in each column : \\n{data.nunique()}')"
      ],
      "metadata": {
        "colab": {
          "base_uri": "https://localhost:8080/"
        },
        "id": "zfKyJx4geL_g",
        "outputId": "a9f712da-bf72-4a43-9197-283b5bd1f28c"
      },
      "execution_count": null,
      "outputs": [
        {
          "output_type": "stream",
          "name": "stdout",
          "text": [
            "number of unique values in each column : \n",
            "id                           252\n",
            "gender                         2\n",
            "PPE                          740\n",
            "DFA                          745\n",
            "RPDE                         748\n",
            "                            ... \n",
            "tqwt_kurtosisValue_dec_33    752\n",
            "tqwt_kurtosisValue_dec_34    753\n",
            "tqwt_kurtosisValue_dec_35    753\n",
            "tqwt_kurtosisValue_dec_36    754\n",
            "class                          2\n",
            "Length: 755, dtype: int64\n"
          ]
        }
      ]
    },
    {
      "cell_type": "code",
      "source": [
        "data.isnull().sum()"
      ],
      "metadata": {
        "colab": {
          "base_uri": "https://localhost:8080/"
        },
        "id": "iHaucaEZWyLl",
        "outputId": "b78dcea2-b2c1-4b64-c66b-b77d979ef018"
      },
      "execution_count": null,
      "outputs": [
        {
          "output_type": "execute_result",
          "data": {
            "text/plain": [
              "id                           0\n",
              "gender                       0\n",
              "PPE                          0\n",
              "DFA                          0\n",
              "RPDE                         0\n",
              "                            ..\n",
              "tqwt_kurtosisValue_dec_33    0\n",
              "tqwt_kurtosisValue_dec_34    0\n",
              "tqwt_kurtosisValue_dec_35    0\n",
              "tqwt_kurtosisValue_dec_36    0\n",
              "class                        0\n",
              "Length: 755, dtype: int64"
            ]
          },
          "metadata": {},
          "execution_count": 9
        }
      ]
    },
    {
      "cell_type": "code",
      "source": [
        "print(f'number of null values in data : {data.isnull().sum().sum()}')"
      ],
      "metadata": {
        "colab": {
          "base_uri": "https://localhost:8080/"
        },
        "id": "q95u_Xf1W8Ip",
        "outputId": "0ce580ea-db24-492d-c191-b199f2c9b9dd"
      },
      "execution_count": null,
      "outputs": [
        {
          "output_type": "stream",
          "name": "stdout",
          "text": [
            "number of null values in data : 0\n"
          ]
        }
      ]
    },
    {
      "cell_type": "code",
      "source": [
        "data.describe()"
      ],
      "metadata": {
        "colab": {
          "base_uri": "https://localhost:8080/",
          "height": 394
        },
        "id": "_VyTMIk8Wjvy",
        "outputId": "da230fb3-4338-4295-9354-100cd10d0435"
      },
      "execution_count": null,
      "outputs": [
        {
          "output_type": "execute_result",
          "data": {
            "text/html": [
              "\n",
              "  <div id=\"df-412f68c9-867c-4c84-a150-0dcb928ac9bf\">\n",
              "    <div class=\"colab-df-container\">\n",
              "      <div>\n",
              "<style scoped>\n",
              "    .dataframe tbody tr th:only-of-type {\n",
              "        vertical-align: middle;\n",
              "    }\n",
              "\n",
              "    .dataframe tbody tr th {\n",
              "        vertical-align: top;\n",
              "    }\n",
              "\n",
              "    .dataframe thead th {\n",
              "        text-align: right;\n",
              "    }\n",
              "</style>\n",
              "<table border=\"1\" class=\"dataframe\">\n",
              "  <thead>\n",
              "    <tr style=\"text-align: right;\">\n",
              "      <th></th>\n",
              "      <th>id</th>\n",
              "      <th>gender</th>\n",
              "      <th>PPE</th>\n",
              "      <th>DFA</th>\n",
              "      <th>RPDE</th>\n",
              "      <th>numPulses</th>\n",
              "      <th>numPeriodsPulses</th>\n",
              "      <th>meanPeriodPulses</th>\n",
              "      <th>stdDevPeriodPulses</th>\n",
              "      <th>locPctJitter</th>\n",
              "      <th>locAbsJitter</th>\n",
              "      <th>rapJitter</th>\n",
              "      <th>ppq5Jitter</th>\n",
              "      <th>ddpJitter</th>\n",
              "      <th>locShimmer</th>\n",
              "      <th>locDbShimmer</th>\n",
              "      <th>apq3Shimmer</th>\n",
              "      <th>apq5Shimmer</th>\n",
              "      <th>apq11Shimmer</th>\n",
              "      <th>ddaShimmer</th>\n",
              "      <th>meanAutoCorrHarmonicity</th>\n",
              "      <th>meanNoiseToHarmHarmonicity</th>\n",
              "      <th>meanHarmToNoiseHarmonicity</th>\n",
              "      <th>minIntensity</th>\n",
              "      <th>maxIntensity</th>\n",
              "      <th>meanIntensity</th>\n",
              "      <th>f1</th>\n",
              "      <th>f2</th>\n",
              "      <th>f3</th>\n",
              "      <th>f4</th>\n",
              "      <th>b1</th>\n",
              "      <th>b2</th>\n",
              "      <th>b3</th>\n",
              "      <th>b4</th>\n",
              "      <th>GQ_prc5_95</th>\n",
              "      <th>GQ_std_cycle_open</th>\n",
              "      <th>GQ_std_cycle_closed</th>\n",
              "      <th>GNE_mean</th>\n",
              "      <th>GNE_std</th>\n",
              "      <th>GNE_SNR_TKEO</th>\n",
              "      <th>...</th>\n",
              "      <th>tqwt_skewnessValue_dec_34</th>\n",
              "      <th>tqwt_skewnessValue_dec_35</th>\n",
              "      <th>tqwt_skewnessValue_dec_36</th>\n",
              "      <th>tqwt_kurtosisValue_dec_1</th>\n",
              "      <th>tqwt_kurtosisValue_dec_2</th>\n",
              "      <th>tqwt_kurtosisValue_dec_3</th>\n",
              "      <th>tqwt_kurtosisValue_dec_4</th>\n",
              "      <th>tqwt_kurtosisValue_dec_5</th>\n",
              "      <th>tqwt_kurtosisValue_dec_6</th>\n",
              "      <th>tqwt_kurtosisValue_dec_7</th>\n",
              "      <th>tqwt_kurtosisValue_dec_8</th>\n",
              "      <th>tqwt_kurtosisValue_dec_9</th>\n",
              "      <th>tqwt_kurtosisValue_dec_10</th>\n",
              "      <th>tqwt_kurtosisValue_dec_11</th>\n",
              "      <th>tqwt_kurtosisValue_dec_12</th>\n",
              "      <th>tqwt_kurtosisValue_dec_13</th>\n",
              "      <th>tqwt_kurtosisValue_dec_14</th>\n",
              "      <th>tqwt_kurtosisValue_dec_15</th>\n",
              "      <th>tqwt_kurtosisValue_dec_16</th>\n",
              "      <th>tqwt_kurtosisValue_dec_17</th>\n",
              "      <th>tqwt_kurtosisValue_dec_18</th>\n",
              "      <th>tqwt_kurtosisValue_dec_19</th>\n",
              "      <th>tqwt_kurtosisValue_dec_20</th>\n",
              "      <th>tqwt_kurtosisValue_dec_21</th>\n",
              "      <th>tqwt_kurtosisValue_dec_22</th>\n",
              "      <th>tqwt_kurtosisValue_dec_23</th>\n",
              "      <th>tqwt_kurtosisValue_dec_24</th>\n",
              "      <th>tqwt_kurtosisValue_dec_25</th>\n",
              "      <th>tqwt_kurtosisValue_dec_26</th>\n",
              "      <th>tqwt_kurtosisValue_dec_27</th>\n",
              "      <th>tqwt_kurtosisValue_dec_28</th>\n",
              "      <th>tqwt_kurtosisValue_dec_29</th>\n",
              "      <th>tqwt_kurtosisValue_dec_30</th>\n",
              "      <th>tqwt_kurtosisValue_dec_31</th>\n",
              "      <th>tqwt_kurtosisValue_dec_32</th>\n",
              "      <th>tqwt_kurtosisValue_dec_33</th>\n",
              "      <th>tqwt_kurtosisValue_dec_34</th>\n",
              "      <th>tqwt_kurtosisValue_dec_35</th>\n",
              "      <th>tqwt_kurtosisValue_dec_36</th>\n",
              "      <th>class</th>\n",
              "    </tr>\n",
              "  </thead>\n",
              "  <tbody>\n",
              "    <tr>\n",
              "      <th>count</th>\n",
              "      <td>756.000000</td>\n",
              "      <td>756.000000</td>\n",
              "      <td>756.000000</td>\n",
              "      <td>756.000000</td>\n",
              "      <td>756.000000</td>\n",
              "      <td>756.000000</td>\n",
              "      <td>756.000000</td>\n",
              "      <td>756.000000</td>\n",
              "      <td>756.000000</td>\n",
              "      <td>756.000000</td>\n",
              "      <td>7.560000e+02</td>\n",
              "      <td>756.000000</td>\n",
              "      <td>756.000000</td>\n",
              "      <td>756.000000</td>\n",
              "      <td>756.000000</td>\n",
              "      <td>756.00000</td>\n",
              "      <td>756.000000</td>\n",
              "      <td>756.000000</td>\n",
              "      <td>756.000000</td>\n",
              "      <td>756.000000</td>\n",
              "      <td>756.000000</td>\n",
              "      <td>756.000000</td>\n",
              "      <td>756.000000</td>\n",
              "      <td>756.000000</td>\n",
              "      <td>756.000000</td>\n",
              "      <td>756.000000</td>\n",
              "      <td>756.000000</td>\n",
              "      <td>756.000000</td>\n",
              "      <td>756.000000</td>\n",
              "      <td>756.000000</td>\n",
              "      <td>756.000000</td>\n",
              "      <td>756.000000</td>\n",
              "      <td>756.000000</td>\n",
              "      <td>756.000000</td>\n",
              "      <td>756.000000</td>\n",
              "      <td>756.000000</td>\n",
              "      <td>756.000000</td>\n",
              "      <td>756.000000</td>\n",
              "      <td>756.000000</td>\n",
              "      <td>756.000000</td>\n",
              "      <td>...</td>\n",
              "      <td>756.000000</td>\n",
              "      <td>756.000000</td>\n",
              "      <td>756.000000</td>\n",
              "      <td>756.000000</td>\n",
              "      <td>756.000000</td>\n",
              "      <td>756.000000</td>\n",
              "      <td>756.000000</td>\n",
              "      <td>756.000000</td>\n",
              "      <td>756.000000</td>\n",
              "      <td>756.000000</td>\n",
              "      <td>756.000000</td>\n",
              "      <td>756.000000</td>\n",
              "      <td>756.000000</td>\n",
              "      <td>756.000000</td>\n",
              "      <td>756.000000</td>\n",
              "      <td>756.000000</td>\n",
              "      <td>756.000000</td>\n",
              "      <td>756.000000</td>\n",
              "      <td>756.000000</td>\n",
              "      <td>756.000000</td>\n",
              "      <td>756.000000</td>\n",
              "      <td>756.000000</td>\n",
              "      <td>756.000000</td>\n",
              "      <td>756.000000</td>\n",
              "      <td>756.000000</td>\n",
              "      <td>756.000000</td>\n",
              "      <td>756.000000</td>\n",
              "      <td>756.000000</td>\n",
              "      <td>756.000000</td>\n",
              "      <td>756.000000</td>\n",
              "      <td>756.000000</td>\n",
              "      <td>756.000000</td>\n",
              "      <td>756.000000</td>\n",
              "      <td>756.000000</td>\n",
              "      <td>756.000000</td>\n",
              "      <td>756.000000</td>\n",
              "      <td>756.000000</td>\n",
              "      <td>756.000000</td>\n",
              "      <td>756.000000</td>\n",
              "      <td>756.000000</td>\n",
              "    </tr>\n",
              "    <tr>\n",
              "      <th>mean</th>\n",
              "      <td>125.500000</td>\n",
              "      <td>0.515873</td>\n",
              "      <td>0.746284</td>\n",
              "      <td>0.700414</td>\n",
              "      <td>0.489058</td>\n",
              "      <td>323.972222</td>\n",
              "      <td>322.678571</td>\n",
              "      <td>0.006360</td>\n",
              "      <td>0.000383</td>\n",
              "      <td>0.002324</td>\n",
              "      <td>1.673391e-05</td>\n",
              "      <td>0.000605</td>\n",
              "      <td>0.001159</td>\n",
              "      <td>0.001815</td>\n",
              "      <td>0.067473</td>\n",
              "      <td>0.60642</td>\n",
              "      <td>0.034375</td>\n",
              "      <td>0.041175</td>\n",
              "      <td>0.055366</td>\n",
              "      <td>0.103125</td>\n",
              "      <td>0.961508</td>\n",
              "      <td>0.051131</td>\n",
              "      <td>18.859632</td>\n",
              "      <td>70.828609</td>\n",
              "      <td>76.135371</td>\n",
              "      <td>73.997008</td>\n",
              "      <td>647.174519</td>\n",
              "      <td>1233.852088</td>\n",
              "      <td>2562.425251</td>\n",
              "      <td>3547.259244</td>\n",
              "      <td>213.363237</td>\n",
              "      <td>297.174077</td>\n",
              "      <td>536.821070</td>\n",
              "      <td>506.604856</td>\n",
              "      <td>0.904423</td>\n",
              "      <td>32.295832</td>\n",
              "      <td>4.454840</td>\n",
              "      <td>1.092503</td>\n",
              "      <td>0.215038</td>\n",
              "      <td>0.144832</td>\n",
              "      <td>...</td>\n",
              "      <td>-0.041840</td>\n",
              "      <td>-0.015615</td>\n",
              "      <td>-0.005242</td>\n",
              "      <td>1059.146612</td>\n",
              "      <td>377.357439</td>\n",
              "      <td>328.927860</td>\n",
              "      <td>317.994439</td>\n",
              "      <td>305.036007</td>\n",
              "      <td>172.362746</td>\n",
              "      <td>40.408662</td>\n",
              "      <td>15.064513</td>\n",
              "      <td>12.107316</td>\n",
              "      <td>11.757945</td>\n",
              "      <td>11.871530</td>\n",
              "      <td>9.529080</td>\n",
              "      <td>3.741615</td>\n",
              "      <td>3.332313</td>\n",
              "      <td>3.270290</td>\n",
              "      <td>2.995472</td>\n",
              "      <td>2.710678</td>\n",
              "      <td>2.608229</td>\n",
              "      <td>2.553457</td>\n",
              "      <td>2.432001</td>\n",
              "      <td>2.300006</td>\n",
              "      <td>2.183111</td>\n",
              "      <td>2.176542</td>\n",
              "      <td>2.595250</td>\n",
              "      <td>6.782668</td>\n",
              "      <td>15.766942</td>\n",
              "      <td>21.026054</td>\n",
              "      <td>26.237251</td>\n",
              "      <td>22.840337</td>\n",
              "      <td>18.587888</td>\n",
              "      <td>13.872018</td>\n",
              "      <td>12.218953</td>\n",
              "      <td>12.375335</td>\n",
              "      <td>14.799230</td>\n",
              "      <td>14.751559</td>\n",
              "      <td>31.481110</td>\n",
              "      <td>0.746032</td>\n",
              "    </tr>\n",
              "    <tr>\n",
              "      <th>std</th>\n",
              "      <td>72.793721</td>\n",
              "      <td>0.500079</td>\n",
              "      <td>0.169294</td>\n",
              "      <td>0.069718</td>\n",
              "      <td>0.137442</td>\n",
              "      <td>99.219059</td>\n",
              "      <td>99.402499</td>\n",
              "      <td>0.001826</td>\n",
              "      <td>0.000728</td>\n",
              "      <td>0.002628</td>\n",
              "      <td>2.290134e-05</td>\n",
              "      <td>0.000981</td>\n",
              "      <td>0.001677</td>\n",
              "      <td>0.002942</td>\n",
              "      <td>0.042969</td>\n",
              "      <td>0.38257</td>\n",
              "      <td>0.022366</td>\n",
              "      <td>0.027165</td>\n",
              "      <td>0.033939</td>\n",
              "      <td>0.067097</td>\n",
              "      <td>0.064095</td>\n",
              "      <td>0.104579</td>\n",
              "      <td>5.576473</td>\n",
              "      <td>8.858268</td>\n",
              "      <td>6.446451</td>\n",
              "      <td>7.018006</td>\n",
              "      <td>134.957916</td>\n",
              "      <td>169.090402</td>\n",
              "      <td>393.315598</td>\n",
              "      <td>347.864299</td>\n",
              "      <td>306.976045</td>\n",
              "      <td>450.125488</td>\n",
              "      <td>754.341717</td>\n",
              "      <td>658.326606</td>\n",
              "      <td>0.147826</td>\n",
              "      <td>31.140746</td>\n",
              "      <td>7.313057</td>\n",
              "      <td>0.350789</td>\n",
              "      <td>0.132549</td>\n",
              "      <td>0.060065</td>\n",
              "      <td>...</td>\n",
              "      <td>1.431979</td>\n",
              "      <td>1.451535</td>\n",
              "      <td>4.448635</td>\n",
              "      <td>3522.528562</td>\n",
              "      <td>1514.808488</td>\n",
              "      <td>1338.602187</td>\n",
              "      <td>1275.228777</td>\n",
              "      <td>1211.296576</td>\n",
              "      <td>821.740615</td>\n",
              "      <td>239.548628</td>\n",
              "      <td>75.865176</td>\n",
              "      <td>77.370230</td>\n",
              "      <td>74.594974</td>\n",
              "      <td>39.125733</td>\n",
              "      <td>36.349168</td>\n",
              "      <td>4.821202</td>\n",
              "      <td>2.962967</td>\n",
              "      <td>2.049877</td>\n",
              "      <td>1.444227</td>\n",
              "      <td>1.310653</td>\n",
              "      <td>1.229086</td>\n",
              "      <td>1.061068</td>\n",
              "      <td>0.892523</td>\n",
              "      <td>0.868506</td>\n",
              "      <td>0.796446</td>\n",
              "      <td>1.709860</td>\n",
              "      <td>5.979131</td>\n",
              "      <td>31.707014</td>\n",
              "      <td>45.247304</td>\n",
              "      <td>43.716898</td>\n",
              "      <td>42.220693</td>\n",
              "      <td>32.626464</td>\n",
              "      <td>25.537464</td>\n",
              "      <td>20.046029</td>\n",
              "      <td>17.783642</td>\n",
              "      <td>16.341665</td>\n",
              "      <td>15.722502</td>\n",
              "      <td>14.432979</td>\n",
              "      <td>34.230991</td>\n",
              "      <td>0.435568</td>\n",
              "    </tr>\n",
              "    <tr>\n",
              "      <th>min</th>\n",
              "      <td>0.000000</td>\n",
              "      <td>0.000000</td>\n",
              "      <td>0.041551</td>\n",
              "      <td>0.543500</td>\n",
              "      <td>0.154300</td>\n",
              "      <td>2.000000</td>\n",
              "      <td>1.000000</td>\n",
              "      <td>0.002107</td>\n",
              "      <td>0.000011</td>\n",
              "      <td>0.000210</td>\n",
              "      <td>6.860000e-07</td>\n",
              "      <td>0.000020</td>\n",
              "      <td>0.000050</td>\n",
              "      <td>0.000050</td>\n",
              "      <td>0.006560</td>\n",
              "      <td>0.05700</td>\n",
              "      <td>0.003350</td>\n",
              "      <td>0.004150</td>\n",
              "      <td>0.000370</td>\n",
              "      <td>0.010040</td>\n",
              "      <td>0.589609</td>\n",
              "      <td>0.000618</td>\n",
              "      <td>1.655000</td>\n",
              "      <td>28.651529</td>\n",
              "      <td>44.133492</td>\n",
              "      <td>39.984109</td>\n",
              "      <td>237.149533</td>\n",
              "      <td>761.357661</td>\n",
              "      <td>1411.231297</td>\n",
              "      <td>2471.996546</td>\n",
              "      <td>13.525000</td>\n",
              "      <td>16.428803</td>\n",
              "      <td>21.164397</td>\n",
              "      <td>22.842528</td>\n",
              "      <td>0.210530</td>\n",
              "      <td>1.735500</td>\n",
              "      <td>0.000000</td>\n",
              "      <td>0.626550</td>\n",
              "      <td>0.023746</td>\n",
              "      <td>0.050828</td>\n",
              "      <td>...</td>\n",
              "      <td>-3.863900</td>\n",
              "      <td>-3.606400</td>\n",
              "      <td>-9.005700</td>\n",
              "      <td>2.507600</td>\n",
              "      <td>2.844200</td>\n",
              "      <td>2.959600</td>\n",
              "      <td>3.016100</td>\n",
              "      <td>3.152900</td>\n",
              "      <td>2.928800</td>\n",
              "      <td>2.616700</td>\n",
              "      <td>2.580100</td>\n",
              "      <td>2.236500</td>\n",
              "      <td>2.099900</td>\n",
              "      <td>2.132200</td>\n",
              "      <td>1.723900</td>\n",
              "      <td>1.667800</td>\n",
              "      <td>1.703400</td>\n",
              "      <td>1.759300</td>\n",
              "      <td>1.600600</td>\n",
              "      <td>1.572900</td>\n",
              "      <td>1.564400</td>\n",
              "      <td>1.532900</td>\n",
              "      <td>1.525600</td>\n",
              "      <td>1.522400</td>\n",
              "      <td>1.420700</td>\n",
              "      <td>1.522000</td>\n",
              "      <td>1.509800</td>\n",
              "      <td>1.499600</td>\n",
              "      <td>1.482400</td>\n",
              "      <td>1.342700</td>\n",
              "      <td>1.509800</td>\n",
              "      <td>1.531700</td>\n",
              "      <td>1.582900</td>\n",
              "      <td>1.747200</td>\n",
              "      <td>1.789500</td>\n",
              "      <td>1.628700</td>\n",
              "      <td>1.861700</td>\n",
              "      <td>1.955900</td>\n",
              "      <td>2.364000</td>\n",
              "      <td>0.000000</td>\n",
              "    </tr>\n",
              "    <tr>\n",
              "      <th>25%</th>\n",
              "      <td>62.750000</td>\n",
              "      <td>0.000000</td>\n",
              "      <td>0.762833</td>\n",
              "      <td>0.647053</td>\n",
              "      <td>0.386537</td>\n",
              "      <td>251.000000</td>\n",
              "      <td>250.000000</td>\n",
              "      <td>0.005003</td>\n",
              "      <td>0.000049</td>\n",
              "      <td>0.000970</td>\n",
              "      <td>5.260000e-06</td>\n",
              "      <td>0.000150</td>\n",
              "      <td>0.000370</td>\n",
              "      <td>0.000450</td>\n",
              "      <td>0.036098</td>\n",
              "      <td>0.31875</td>\n",
              "      <td>0.017843</td>\n",
              "      <td>0.021935</td>\n",
              "      <td>0.030962</td>\n",
              "      <td>0.053538</td>\n",
              "      <td>0.963341</td>\n",
              "      <td>0.007168</td>\n",
              "      <td>15.713250</td>\n",
              "      <td>67.248014</td>\n",
              "      <td>73.322769</td>\n",
              "      <td>70.920615</td>\n",
              "      <td>562.879119</td>\n",
              "      <td>1117.316190</td>\n",
              "      <td>2380.426103</td>\n",
              "      <td>3288.644496</td>\n",
              "      <td>90.939702</td>\n",
              "      <td>102.856320</td>\n",
              "      <td>152.783110</td>\n",
              "      <td>170.741827</td>\n",
              "      <td>0.822580</td>\n",
              "      <td>9.764675</td>\n",
              "      <td>0.000000</td>\n",
              "      <td>0.887350</td>\n",
              "      <td>0.132692</td>\n",
              "      <td>0.119680</td>\n",
              "      <td>...</td>\n",
              "      <td>-0.405770</td>\n",
              "      <td>-0.465315</td>\n",
              "      <td>-0.916837</td>\n",
              "      <td>8.993000</td>\n",
              "      <td>7.452975</td>\n",
              "      <td>6.785700</td>\n",
              "      <td>6.600200</td>\n",
              "      <td>6.286025</td>\n",
              "      <td>5.603525</td>\n",
              "      <td>4.544075</td>\n",
              "      <td>4.294775</td>\n",
              "      <td>4.004375</td>\n",
              "      <td>3.782575</td>\n",
              "      <td>3.894050</td>\n",
              "      <td>3.030725</td>\n",
              "      <td>2.545750</td>\n",
              "      <td>2.527550</td>\n",
              "      <td>2.503975</td>\n",
              "      <td>2.289600</td>\n",
              "      <td>2.103900</td>\n",
              "      <td>2.033900</td>\n",
              "      <td>2.081850</td>\n",
              "      <td>1.926025</td>\n",
              "      <td>1.805375</td>\n",
              "      <td>1.724150</td>\n",
              "      <td>1.726750</td>\n",
              "      <td>1.662750</td>\n",
              "      <td>1.649950</td>\n",
              "      <td>1.672925</td>\n",
              "      <td>1.814850</td>\n",
              "      <td>2.408675</td>\n",
              "      <td>3.452800</td>\n",
              "      <td>3.354825</td>\n",
              "      <td>3.077450</td>\n",
              "      <td>2.937025</td>\n",
              "      <td>3.114375</td>\n",
              "      <td>3.665925</td>\n",
              "      <td>3.741275</td>\n",
              "      <td>3.948750</td>\n",
              "      <td>0.000000</td>\n",
              "    </tr>\n",
              "    <tr>\n",
              "      <th>50%</th>\n",
              "      <td>125.500000</td>\n",
              "      <td>1.000000</td>\n",
              "      <td>0.809655</td>\n",
              "      <td>0.700525</td>\n",
              "      <td>0.484355</td>\n",
              "      <td>317.000000</td>\n",
              "      <td>316.000000</td>\n",
              "      <td>0.006048</td>\n",
              "      <td>0.000077</td>\n",
              "      <td>0.001495</td>\n",
              "      <td>9.530000e-06</td>\n",
              "      <td>0.000280</td>\n",
              "      <td>0.000650</td>\n",
              "      <td>0.000840</td>\n",
              "      <td>0.055730</td>\n",
              "      <td>0.50250</td>\n",
              "      <td>0.027980</td>\n",
              "      <td>0.033705</td>\n",
              "      <td>0.047545</td>\n",
              "      <td>0.083945</td>\n",
              "      <td>0.984339</td>\n",
              "      <td>0.016272</td>\n",
              "      <td>19.309500</td>\n",
              "      <td>74.121030</td>\n",
              "      <td>78.581351</td>\n",
              "      <td>76.855313</td>\n",
              "      <td>641.181498</td>\n",
              "      <td>1215.344125</td>\n",
              "      <td>2612.204198</td>\n",
              "      <td>3544.012403</td>\n",
              "      <td>141.610973</td>\n",
              "      <td>159.991186</td>\n",
              "      <td>265.964575</td>\n",
              "      <td>307.971279</td>\n",
              "      <td>1.000000</td>\n",
              "      <td>18.768600</td>\n",
              "      <td>0.354165</td>\n",
              "      <td>1.016200</td>\n",
              "      <td>0.184125</td>\n",
              "      <td>0.137810</td>\n",
              "      <td>...</td>\n",
              "      <td>-0.003125</td>\n",
              "      <td>-0.005517</td>\n",
              "      <td>0.048819</td>\n",
              "      <td>21.611450</td>\n",
              "      <td>11.398050</td>\n",
              "      <td>10.270550</td>\n",
              "      <td>9.530950</td>\n",
              "      <td>9.001950</td>\n",
              "      <td>7.674750</td>\n",
              "      <td>5.966600</td>\n",
              "      <td>5.368600</td>\n",
              "      <td>4.921650</td>\n",
              "      <td>4.592600</td>\n",
              "      <td>5.015800</td>\n",
              "      <td>3.828150</td>\n",
              "      <td>3.024100</td>\n",
              "      <td>2.953100</td>\n",
              "      <td>2.930500</td>\n",
              "      <td>2.668350</td>\n",
              "      <td>2.425250</td>\n",
              "      <td>2.369450</td>\n",
              "      <td>2.380050</td>\n",
              "      <td>2.290400</td>\n",
              "      <td>2.169700</td>\n",
              "      <td>2.002400</td>\n",
              "      <td>1.935850</td>\n",
              "      <td>1.834250</td>\n",
              "      <td>1.819900</td>\n",
              "      <td>1.907550</td>\n",
              "      <td>3.075050</td>\n",
              "      <td>5.586300</td>\n",
              "      <td>7.062750</td>\n",
              "      <td>6.077400</td>\n",
              "      <td>4.770850</td>\n",
              "      <td>4.300450</td>\n",
              "      <td>4.741450</td>\n",
              "      <td>6.725700</td>\n",
              "      <td>7.334250</td>\n",
              "      <td>10.637250</td>\n",
              "      <td>1.000000</td>\n",
              "    </tr>\n",
              "    <tr>\n",
              "      <th>75%</th>\n",
              "      <td>188.250000</td>\n",
              "      <td>1.000000</td>\n",
              "      <td>0.834315</td>\n",
              "      <td>0.754985</td>\n",
              "      <td>0.586515</td>\n",
              "      <td>384.250000</td>\n",
              "      <td>383.250000</td>\n",
              "      <td>0.007528</td>\n",
              "      <td>0.000171</td>\n",
              "      <td>0.002520</td>\n",
              "      <td>1.832500e-05</td>\n",
              "      <td>0.000650</td>\n",
              "      <td>0.001252</td>\n",
              "      <td>0.001952</td>\n",
              "      <td>0.085547</td>\n",
              "      <td>0.79650</td>\n",
              "      <td>0.044665</td>\n",
              "      <td>0.053023</td>\n",
              "      <td>0.071385</td>\n",
              "      <td>0.134000</td>\n",
              "      <td>0.992916</td>\n",
              "      <td>0.040061</td>\n",
              "      <td>22.877750</td>\n",
              "      <td>76.850515</td>\n",
              "      <td>80.402498</td>\n",
              "      <td>78.718785</td>\n",
              "      <td>737.222678</td>\n",
              "      <td>1339.826741</td>\n",
              "      <td>2831.959198</td>\n",
              "      <td>3807.332055</td>\n",
              "      <td>234.098376</td>\n",
              "      <td>299.912765</td>\n",
              "      <td>518.822036</td>\n",
              "      <td>557.628796</td>\n",
              "      <td>1.000000</td>\n",
              "      <td>45.821475</td>\n",
              "      <td>5.374000</td>\n",
              "      <td>1.201575</td>\n",
              "      <td>0.264715</td>\n",
              "      <td>0.157510</td>\n",
              "      <td>...</td>\n",
              "      <td>0.368445</td>\n",
              "      <td>0.421938</td>\n",
              "      <td>1.033050</td>\n",
              "      <td>251.897450</td>\n",
              "      <td>28.205700</td>\n",
              "      <td>18.817550</td>\n",
              "      <td>17.858350</td>\n",
              "      <td>17.691350</td>\n",
              "      <td>13.642275</td>\n",
              "      <td>9.275500</td>\n",
              "      <td>7.419100</td>\n",
              "      <td>6.546525</td>\n",
              "      <td>6.139300</td>\n",
              "      <td>7.230500</td>\n",
              "      <td>5.760800</td>\n",
              "      <td>3.685825</td>\n",
              "      <td>3.526800</td>\n",
              "      <td>3.536650</td>\n",
              "      <td>3.330025</td>\n",
              "      <td>2.953400</td>\n",
              "      <td>2.823100</td>\n",
              "      <td>2.759900</td>\n",
              "      <td>2.688075</td>\n",
              "      <td>2.524625</td>\n",
              "      <td>2.410075</td>\n",
              "      <td>2.350300</td>\n",
              "      <td>2.214575</td>\n",
              "      <td>2.221500</td>\n",
              "      <td>3.057025</td>\n",
              "      <td>12.129975</td>\n",
              "      <td>28.958075</td>\n",
              "      <td>29.830850</td>\n",
              "      <td>21.944050</td>\n",
              "      <td>13.188000</td>\n",
              "      <td>10.876150</td>\n",
              "      <td>12.201325</td>\n",
              "      <td>21.922050</td>\n",
              "      <td>22.495175</td>\n",
              "      <td>61.125325</td>\n",
              "      <td>1.000000</td>\n",
              "    </tr>\n",
              "    <tr>\n",
              "      <th>max</th>\n",
              "      <td>251.000000</td>\n",
              "      <td>1.000000</td>\n",
              "      <td>0.907660</td>\n",
              "      <td>0.852640</td>\n",
              "      <td>0.871230</td>\n",
              "      <td>907.000000</td>\n",
              "      <td>905.000000</td>\n",
              "      <td>0.012966</td>\n",
              "      <td>0.003483</td>\n",
              "      <td>0.027750</td>\n",
              "      <td>2.564800e-04</td>\n",
              "      <td>0.011050</td>\n",
              "      <td>0.018320</td>\n",
              "      <td>0.033150</td>\n",
              "      <td>0.251010</td>\n",
              "      <td>2.11400</td>\n",
              "      <td>0.130510</td>\n",
              "      <td>0.199510</td>\n",
              "      <td>0.277500</td>\n",
              "      <td>0.391540</td>\n",
              "      <td>0.999382</td>\n",
              "      <td>0.761696</td>\n",
              "      <td>33.197000</td>\n",
              "      <td>83.908349</td>\n",
              "      <td>86.316176</td>\n",
              "      <td>85.096353</td>\n",
              "      <td>1015.524047</td>\n",
              "      <td>1922.747225</td>\n",
              "      <td>3475.648017</td>\n",
              "      <td>4482.258531</td>\n",
              "      <td>4744.875736</td>\n",
              "      <td>4262.170070</td>\n",
              "      <td>6116.039922</td>\n",
              "      <td>5804.342078</td>\n",
              "      <td>1.000000</td>\n",
              "      <td>194.360800</td>\n",
              "      <td>37.560200</td>\n",
              "      <td>4.957600</td>\n",
              "      <td>1.654100</td>\n",
              "      <td>1.067200</td>\n",
              "      <td>...</td>\n",
              "      <td>4.048300</td>\n",
              "      <td>3.537200</td>\n",
              "      <td>10.973400</td>\n",
              "      <td>29579.921900</td>\n",
              "      <td>11610.638600</td>\n",
              "      <td>9998.036100</td>\n",
              "      <td>9385.513100</td>\n",
              "      <td>8866.289700</td>\n",
              "      <td>6810.290300</td>\n",
              "      <td>3297.514200</td>\n",
              "      <td>1611.375100</td>\n",
              "      <td>1705.947100</td>\n",
              "      <td>1614.359600</td>\n",
              "      <td>684.873000</td>\n",
              "      <td>511.721100</td>\n",
              "      <td>90.478100</td>\n",
              "      <td>74.435800</td>\n",
              "      <td>40.978400</td>\n",
              "      <td>26.918400</td>\n",
              "      <td>26.574100</td>\n",
              "      <td>25.415600</td>\n",
              "      <td>20.013100</td>\n",
              "      <td>17.105100</td>\n",
              "      <td>14.050700</td>\n",
              "      <td>12.225600</td>\n",
              "      <td>42.538200</td>\n",
              "      <td>118.329600</td>\n",
              "      <td>359.560600</td>\n",
              "      <td>395.347700</td>\n",
              "      <td>355.516100</td>\n",
              "      <td>239.788800</td>\n",
              "      <td>203.311300</td>\n",
              "      <td>121.542900</td>\n",
              "      <td>102.207000</td>\n",
              "      <td>85.571700</td>\n",
              "      <td>73.532200</td>\n",
              "      <td>62.007300</td>\n",
              "      <td>57.544300</td>\n",
              "      <td>156.423700</td>\n",
              "      <td>1.000000</td>\n",
              "    </tr>\n",
              "  </tbody>\n",
              "</table>\n",
              "<p>8 rows × 755 columns</p>\n",
              "</div>\n",
              "      <button class=\"colab-df-convert\" onclick=\"convertToInteractive('df-412f68c9-867c-4c84-a150-0dcb928ac9bf')\"\n",
              "              title=\"Convert this dataframe to an interactive table.\"\n",
              "              style=\"display:none;\">\n",
              "        \n",
              "  <svg xmlns=\"http://www.w3.org/2000/svg\" height=\"24px\"viewBox=\"0 0 24 24\"\n",
              "       width=\"24px\">\n",
              "    <path d=\"M0 0h24v24H0V0z\" fill=\"none\"/>\n",
              "    <path d=\"M18.56 5.44l.94 2.06.94-2.06 2.06-.94-2.06-.94-.94-2.06-.94 2.06-2.06.94zm-11 1L8.5 8.5l.94-2.06 2.06-.94-2.06-.94L8.5 2.5l-.94 2.06-2.06.94zm10 10l.94 2.06.94-2.06 2.06-.94-2.06-.94-.94-2.06-.94 2.06-2.06.94z\"/><path d=\"M17.41 7.96l-1.37-1.37c-.4-.4-.92-.59-1.43-.59-.52 0-1.04.2-1.43.59L10.3 9.45l-7.72 7.72c-.78.78-.78 2.05 0 2.83L4 21.41c.39.39.9.59 1.41.59.51 0 1.02-.2 1.41-.59l7.78-7.78 2.81-2.81c.8-.78.8-2.07 0-2.86zM5.41 20L4 18.59l7.72-7.72 1.47 1.35L5.41 20z\"/>\n",
              "  </svg>\n",
              "      </button>\n",
              "      \n",
              "  <style>\n",
              "    .colab-df-container {\n",
              "      display:flex;\n",
              "      flex-wrap:wrap;\n",
              "      gap: 12px;\n",
              "    }\n",
              "\n",
              "    .colab-df-convert {\n",
              "      background-color: #E8F0FE;\n",
              "      border: none;\n",
              "      border-radius: 50%;\n",
              "      cursor: pointer;\n",
              "      display: none;\n",
              "      fill: #1967D2;\n",
              "      height: 32px;\n",
              "      padding: 0 0 0 0;\n",
              "      width: 32px;\n",
              "    }\n",
              "\n",
              "    .colab-df-convert:hover {\n",
              "      background-color: #E2EBFA;\n",
              "      box-shadow: 0px 1px 2px rgba(60, 64, 67, 0.3), 0px 1px 3px 1px rgba(60, 64, 67, 0.15);\n",
              "      fill: #174EA6;\n",
              "    }\n",
              "\n",
              "    [theme=dark] .colab-df-convert {\n",
              "      background-color: #3B4455;\n",
              "      fill: #D2E3FC;\n",
              "    }\n",
              "\n",
              "    [theme=dark] .colab-df-convert:hover {\n",
              "      background-color: #434B5C;\n",
              "      box-shadow: 0px 1px 3px 1px rgba(0, 0, 0, 0.15);\n",
              "      filter: drop-shadow(0px 1px 2px rgba(0, 0, 0, 0.3));\n",
              "      fill: #FFFFFF;\n",
              "    }\n",
              "  </style>\n",
              "\n",
              "      <script>\n",
              "        const buttonEl =\n",
              "          document.querySelector('#df-412f68c9-867c-4c84-a150-0dcb928ac9bf button.colab-df-convert');\n",
              "        buttonEl.style.display =\n",
              "          google.colab.kernel.accessAllowed ? 'block' : 'none';\n",
              "\n",
              "        async function convertToInteractive(key) {\n",
              "          const element = document.querySelector('#df-412f68c9-867c-4c84-a150-0dcb928ac9bf');\n",
              "          const dataTable =\n",
              "            await google.colab.kernel.invokeFunction('convertToInteractive',\n",
              "                                                     [key], {});\n",
              "          if (!dataTable) return;\n",
              "\n",
              "          const docLinkHtml = 'Like what you see? Visit the ' +\n",
              "            '<a target=\"_blank\" href=https://colab.research.google.com/notebooks/data_table.ipynb>data table notebook</a>'\n",
              "            + ' to learn more about interactive tables.';\n",
              "          element.innerHTML = '';\n",
              "          dataTable['output_type'] = 'display_data';\n",
              "          await google.colab.output.renderOutput(dataTable, element);\n",
              "          const docLink = document.createElement('div');\n",
              "          docLink.innerHTML = docLinkHtml;\n",
              "          element.appendChild(docLink);\n",
              "        }\n",
              "      </script>\n",
              "    </div>\n",
              "  </div>\n",
              "  "
            ],
            "text/plain": [
              "               id      gender  ...  tqwt_kurtosisValue_dec_36       class\n",
              "count  756.000000  756.000000  ...                 756.000000  756.000000\n",
              "mean   125.500000    0.515873  ...                  31.481110    0.746032\n",
              "std     72.793721    0.500079  ...                  34.230991    0.435568\n",
              "min      0.000000    0.000000  ...                   2.364000    0.000000\n",
              "25%     62.750000    0.000000  ...                   3.948750    0.000000\n",
              "50%    125.500000    1.000000  ...                  10.637250    1.000000\n",
              "75%    188.250000    1.000000  ...                  61.125325    1.000000\n",
              "max    251.000000    1.000000  ...                 156.423700    1.000000\n",
              "\n",
              "[8 rows x 755 columns]"
            ]
          },
          "metadata": {},
          "execution_count": 11
        }
      ]
    },
    {
      "cell_type": "code",
      "source": [
        "# distribution of first 16 features\n",
        "fig, axs = plt.subplots(nrows=4, ncols=4, figsize=(30, 20))\n",
        "axs = axs.flatten()\n",
        "index = 0\n",
        "for k, v in data.items():\n",
        "  sns.distplot(v, ax=axs[index])\n",
        "  index += 1\n",
        "  if index == 16:\n",
        "    break \n",
        "plt.tight_layout()"
      ],
      "metadata": {
        "id": "JJbNVjcOibwG",
        "colab": {
          "base_uri": "https://localhost:8080/",
          "height": 705
        },
        "outputId": "b2d5d1c0-0936-47ee-dac8-523d67a8bcec"
      },
      "execution_count": null,
      "outputs": [
        {
          "output_type": "display_data",
          "data": {
            "image/png": "[encoded data removed]",
            "text/plain": [
              "<Figure size 2160x1440 with 16 Axes>"
            ]
          },
          "metadata": {
            "needs_background": "light"
          }
        }
      ]
    },
    {
      "cell_type": "markdown",
      "source": [
        "As we can see in the above output, most of the features have normal distribution, so we should use `StandarScalar` for normalization."
      ],
      "metadata": {
        "id": "dMhkDVBTdmmx"
      }
    },
    {
      "cell_type": "code",
      "source": [
        "data['class'].value_counts()"
      ],
      "metadata": {
        "id": "3dZHuXYDW_2h",
        "colab": {
          "base_uri": "https://localhost:8080/"
        },
        "outputId": "41d1b924-184d-432a-9d1e-c5b98e31e2dd"
      },
      "execution_count": null,
      "outputs": [
        {
          "output_type": "execute_result",
          "data": {
            "text/plain": [
              "1    564\n",
              "0    192\n",
              "Name: class, dtype: int64"
            ]
          },
          "metadata": {},
          "execution_count": 13
        }
      ]
    },
    {
      "cell_type": "markdown",
      "source": [
        "As we can see, we have imbalanced data. Most of the patients has parkinson. (1 means the person has parkinson disease and o means rhe person doesn't have parkinson disease.)"
      ],
      "metadata": {
        "id": "rP2KxJ39gVwe"
      }
    },
    {
      "cell_type": "code",
      "source": [
        "# distribution of data in each class\n",
        "distribution = list(data['class'].value_counts())\n",
        "plt.bar(['1', '0'] ,distribution)\n",
        "plt.xlabel(\"Class\")\n",
        "plt.ylabel(\"Number of person in each class\")\n",
        "plt.title(\"Distribution of data in each class\")\n",
        "plt.show()"
      ],
      "metadata": {
        "colab": {
          "base_uri": "https://localhost:8080/",
          "height": 295
        },
        "id": "pa3xM8gue9m-",
        "outputId": "209025b6-bada-4ad2-9cfb-0fb47ea07249"
      },
      "execution_count": null,
      "outputs": [
        {
          "output_type": "display_data",
          "data": {
            "image/png": "[encoded data removed]",
            "text/plain": [
              "<Figure size 432x288 with 1 Axes>"
            ]
          },
          "metadata": {
            "needs_background": "light"
          }
        }
      ]
    },
    {
      "cell_type": "markdown",
      "source": [
        "### Drop irrelevant features"
      ],
      "metadata": {
        "id": "_1az6MVazSN4"
      }
    },
    {
      "cell_type": "markdown",
      "source": [
        "Let's remove irrelevant features. In this data we have a column whose name is`id` and it's unique for each person. so we should remove it."
      ],
      "metadata": {
        "id": "X8fMMt6RfwB7"
      }
    },
    {
      "cell_type": "code",
      "source": [
        "data.drop('id', inplace=True, axis=1)\n",
        "print(f'data shape : {data.shape}')"
      ],
      "metadata": {
        "colab": {
          "base_uri": "https://localhost:8080/"
        },
        "id": "h0YJ-5qyfu4L",
        "outputId": "fbcd6f51-d0d1-4aa6-ae6c-d4327fe0a5a6"
      },
      "execution_count": 4,
      "outputs": [
        {
          "output_type": "stream",
          "name": "stdout",
          "text": [
            "data shape : (756, 754)\n"
          ]
        }
      ]
    },
    {
      "cell_type": "markdown",
      "source": [
        "### Split X and y"
      ],
      "metadata": {
        "id": "GZMQ1eTRgi4P"
      }
    },
    {
      "cell_type": "code",
      "source": [
        "X = data.drop(columns='class')\n",
        "y = pd.DataFrame(data['class'])\n",
        "\n",
        "print(f'X shape : {X.shape}')\n",
        "print(f'y shape : {y.shape}')"
      ],
      "metadata": {
        "colab": {
          "base_uri": "https://localhost:8080/"
        },
        "id": "ZlxiJUqtggQy",
        "outputId": "1cd273f7-2202-44ed-986f-12a2ee6d66a0"
      },
      "execution_count": 5,
      "outputs": [
        {
          "output_type": "stream",
          "name": "stdout",
          "text": [
            "X shape : (756, 753)\n",
            "y shape : (756, 1)\n"
          ]
        }
      ]
    },
    {
      "cell_type": "markdown",
      "source": [
        "### Split train and test data set"
      ],
      "metadata": {
        "id": "yIJb1SHRg8Mz"
      }
    },
    {
      "cell_type": "code",
      "source": [
        "from sklearn.model_selection import train_test_split\n",
        "\n",
        "X_train, X_test, y_train, y_test = train_test_split(X, y, test_size=0.2, stratify= y, random_state=42)\n",
        "print(f'X_train shape: {X_train.shape}')\n",
        "print(f'X_test shape: {X_test.shape}')\n",
        "print(f'y_train shape: {y_train.shape}')\n",
        "print(f'y_test shape: {y_test.shape}')"
      ],
      "metadata": {
        "colab": {
          "base_uri": "https://localhost:8080/"
        },
        "id": "mFKtdvG1hYzO",
        "outputId": "f5dfa723-3a2c-4ee6-fc86-0d9f0cf84924"
      },
      "execution_count": 6,
      "outputs": [
        {
          "output_type": "stream",
          "name": "stdout",
          "text": [
            "X_train shape: (604, 753)\n",
            "X_test shape: (152, 753)\n",
            "y_train shape: (604, 1)\n",
            "y_test shape: (152, 1)\n"
          ]
        }
      ]
    },
    {
      "cell_type": "markdown",
      "source": [
        "### Standadization\n"
      ],
      "metadata": {
        "id": "UD6tvY4Xh7Ri"
      }
    },
    {
      "cell_type": "code",
      "source": [
        "from sklearn.preprocessing import StandardScaler\n",
        "\n",
        "sc = StandardScaler()\n",
        "X_train = sc.fit_transform(X_train)\n",
        "X_test = sc.transform(X_test)"
      ],
      "metadata": {
        "id": "cE9yGuaOhsDJ"
      },
      "execution_count": 7,
      "outputs": []
    },
    {
      "cell_type": "markdown",
      "source": [
        "## BaseLine model"
      ],
      "metadata": {
        "id": "YYWoMVATmeAY"
      }
    },
    {
      "cell_type": "markdown",
      "source": [
        "Let's construct baseline model. Since data with class =1 are more that data with class =0 in our dataset and we have imbalanced dataset, so we can construct baseline model that predicts all of the inputs as class = 1."
      ],
      "metadata": {
        "id": "Y1VKsLnUbFk3"
      }
    },
    {
      "cell_type": "code",
      "source": [
        "def baseline(X):\n",
        "  y_pred = []\n",
        "  for i in range(len(X)):\n",
        "    y_pred.append(1)\n",
        "  return y_pred  "
      ],
      "metadata": {
        "id": "Po5DZTPzbEsv"
      },
      "execution_count": null,
      "outputs": []
    },
    {
      "cell_type": "code",
      "source": [
        "def confusion_matrix(y_test, y_pred):\n",
        "    df_cm = pd.DataFrame(metrics.confusion_matrix(y_test, y_pred), index = [0, 1],\n",
        "                  columns = [0, 1])\n",
        "    sns.heatmap(df_cm, annot=True, cmap=\"YlGnBu\" ,fmt='g')\n",
        "    plt.title('Confusion matrix', y=1.1)\n",
        "    plt.ylabel('Actual label')\n",
        "    plt.xlabel('Predicted label')\n",
        "    plt.show()  "
      ],
      "metadata": {
        "id": "uXWlMdYjfpzs"
      },
      "execution_count": 8,
      "outputs": []
    },
    {
      "cell_type": "code",
      "source": [
        "y_pred = baseline(X_test)\n",
        "print(classification_report(y_test, y_pred))"
      ],
      "metadata": {
        "id": "UrL85XNFlfhp",
        "colab": {
          "base_uri": "https://localhost:8080/"
        },
        "outputId": "784e4771-3629-4075-9d60-479d9d3e679c"
      },
      "execution_count": null,
      "outputs": [
        {
          "output_type": "stream",
          "name": "stdout",
          "text": [
            "              precision    recall  f1-score   support\n",
            "\n",
            "           0       0.00      0.00      0.00        39\n",
            "           1       0.74      1.00      0.85       113\n",
            "\n",
            "    accuracy                           0.74       152\n",
            "   macro avg       0.37      0.50      0.43       152\n",
            "weighted avg       0.55      0.74      0.63       152\n",
            "\n"
          ]
        }
      ]
    },
    {
      "cell_type": "code",
      "source": [
        "confusion_matrix(y_test, y_pred)"
      ],
      "metadata": {
        "colab": {
          "base_uri": "https://localhost:8080/",
          "height": 295
        },
        "id": "3Ovb1fwmkiDo",
        "outputId": "7a58d961-2d20-4a54-eb18-9eb168932ca8"
      },
      "execution_count": null,
      "outputs": [
        {
          "output_type": "display_data",
          "data": {
            "image/png": "[encoded data removed]",
            "text/plain": [
              "<Figure size 432x288 with 2 Axes>"
            ]
          },
          "metadata": {
            "needs_background": "light"
          }
        }
      ]
    },
    {
      "cell_type": "markdown",
      "source": [
        "## Decision Tree Classifier"
      ],
      "metadata": {
        "id": "7E6TLA0Er_SA"
      }
    },
    {
      "cell_type": "code",
      "source": [
        "from sklearn.tree import DecisionTreeClassifier \n",
        "\n",
        "criterion = ['gini', 'entropy'] # default=”gini”\n",
        "splitter = ['best', 'random']\n",
        "max_depth = [10, 100, 200]\n",
        "\n",
        "for criteria in criterion:\n",
        "  for split in splitter:\n",
        "    for depth in max_depth:\n",
        "\n",
        "      dt = DecisionTreeClassifier(criterion=criteria, max_depth=depth,splitter=split, random_state=42)\n",
        "      scores = cross_val_score(dt, X_train, y_train, cv=5)\n",
        "      print(f'for criterion {criteria}| splitter {split}| depth {depth} : accuracy {scores.mean()}')"
      ],
      "metadata": {
        "colab": {
          "base_uri": "https://localhost:8080/"
        },
        "id": "u7xhxQtHGSIA",
        "outputId": "8dac3b45-32a6-4c8c-f9be-9d017954572a"
      },
      "execution_count": null,
      "outputs": [
        {
          "output_type": "stream",
          "name": "stdout",
          "text": [
            "for criterion gini| splitter best| depth 10 : accuracy 0.7979889807162535\n",
            "for criterion gini| splitter best| depth 100 : accuracy 0.7847658402203856\n",
            "for criterion gini| splitter best| depth 200 : accuracy 0.7847658402203856\n",
            "for criterion gini| splitter random| depth 10 : accuracy 0.7863498622589532\n",
            "for criterion gini| splitter random| depth 100 : accuracy 0.7863498622589532\n",
            "for criterion gini| splitter random| depth 200 : accuracy 0.7863498622589532\n",
            "for criterion entropy| splitter best| depth 10 : accuracy 0.8261019283746558\n",
            "for criterion entropy| splitter best| depth 100 : accuracy 0.8327134986225897\n",
            "for criterion entropy| splitter best| depth 200 : accuracy 0.8327134986225897\n",
            "for criterion entropy| splitter random| depth 10 : accuracy 0.804504132231405\n",
            "for criterion entropy| splitter random| depth 100 : accuracy 0.7995454545454546\n",
            "for criterion entropy| splitter random| depth 200 : accuracy 0.7995454545454546\n"
          ]
        }
      ]
    },
    {
      "cell_type": "markdown",
      "source": [
        "Till now we have `criterion=entropy, max_depth=100`. Now, we should put best hyperparameters in the model and evaluate them on the test set."
      ],
      "metadata": {
        "id": "EVtp4ZcoEMs3"
      }
    },
    {
      "cell_type": "code",
      "source": [
        "dt = DecisionTreeClassifier(criterion = 'entropy', max_depth=100, splitter='best',random_state=42)\n",
        "dt = dt.fit(X_train,y_train)\n",
        "\n",
        "y_pred = dt.predict(X_test)\n",
        "print(f'10 first elements of y_pred : {y_pred[:10]}')"
      ],
      "metadata": {
        "colab": {
          "base_uri": "https://localhost:8080/"
        },
        "id": "HQXwr9KSxESi",
        "outputId": "9a05af89-adfa-436b-f154-9548c8f7f7d4"
      },
      "execution_count": null,
      "outputs": [
        {
          "output_type": "stream",
          "name": "stdout",
          "text": [
            "10 first elements of y_pred : [1 1 1 1 0 1 0 1 1 0]\n"
          ]
        }
      ]
    },
    {
      "cell_type": "code",
      "source": [
        "print(f'decision tree accuracy on train set: {dt.score(X_train, y_train)}')\n",
        "print(f'decision tree accuracy on test set : {dt.score(X_test, y_test)}')"
      ],
      "metadata": {
        "colab": {
          "base_uri": "https://localhost:8080/"
        },
        "id": "y6Xlv0w1x5RV",
        "outputId": "ec9e05cf-95e4-4407-bc41-966512080cb7"
      },
      "execution_count": null,
      "outputs": [
        {
          "output_type": "stream",
          "name": "stdout",
          "text": [
            "decision tree accuracy on train set: 1.0\n",
            "decision tree accuracy on test set : 0.8223684210526315\n"
          ]
        }
      ]
    },
    {
      "cell_type": "code",
      "source": [
        "print(classification_report(y_test, y_pred))"
      ],
      "metadata": {
        "colab": {
          "base_uri": "https://localhost:8080/"
        },
        "id": "PhgaEZplx8nQ",
        "outputId": "6bd2f4f6-c567-4efe-b24e-924c56c71b42"
      },
      "execution_count": null,
      "outputs": [
        {
          "output_type": "stream",
          "name": "stdout",
          "text": [
            "              precision    recall  f1-score   support\n",
            "\n",
            "           0       0.67      0.62      0.64        39\n",
            "           1       0.87      0.89      0.88       113\n",
            "\n",
            "    accuracy                           0.82       152\n",
            "   macro avg       0.77      0.75      0.76       152\n",
            "weighted avg       0.82      0.82      0.82       152\n",
            "\n"
          ]
        }
      ]
    },
    {
      "cell_type": "code",
      "source": [
        "confusion_matrix(y_test, y_pred)"
      ],
      "metadata": {
        "colab": {
          "base_uri": "https://localhost:8080/",
          "height": 295
        },
        "id": "KmeMGh7NyMek",
        "outputId": "e2734640-9df4-4b63-b3e7-bb5ef3782165"
      },
      "execution_count": null,
      "outputs": [
        {
          "output_type": "display_data",
          "data": {
            "image/png": "[encoded data removed]",
            "text/plain": [
              "<Figure size 432x288 with 2 Axes>"
            ]
          },
          "metadata": {
            "needs_background": "light"
          }
        }
      ]
    },
    {
      "cell_type": "markdown",
      "source": [
        "## Random Forest Classifier"
      ],
      "metadata": {
        "id": "qx-_-9FjzFcX"
      }
    },
    {
      "cell_type": "code",
      "source": [
        "from sklearn.ensemble import RandomForestClassifier\n",
        "\n",
        "criterion = ['gini', 'entropy'] # default=”gini”\n",
        "n_estimators = [50, 100, 200, 400]\n",
        "max_depth = [10, 50, 100]\n",
        "\n",
        "for criteria in criterion:\n",
        "  for n in n_estimators:\n",
        "    for depth in max_depth:\n",
        "\n",
        "      rf = RandomForestClassifier(criterion=criteria, n_estimators=n, max_depth=depth, random_state=42)\n",
        "      scores = cross_val_score(rf, X_train, y_train, cv=5)\n",
        "      print(f'criteria :{criteria}| n_estimators {n}| depth : {depth} => accuracy {scores.mean()}')"
      ],
      "metadata": {
        "colab": {
          "base_uri": "https://localhost:8080/"
        },
        "id": "Lwz3xRHWMkZh",
        "outputId": "f03b5f37-82f6-4922-bd1b-564c05a8a375"
      },
      "execution_count": null,
      "outputs": [
        {
          "output_type": "stream",
          "name": "stdout",
          "text": [
            "criteria :gini| n_estimators 50| depth : 10 => accuracy 0.865771349862259\n",
            "criteria :gini| n_estimators 50| depth : 50 => accuracy 0.8657851239669421\n",
            "criteria :gini| n_estimators 50| depth : 100 => accuracy 0.8657851239669421\n",
            "criteria :gini| n_estimators 100| depth : 10 => accuracy 0.8657575757575758\n",
            "criteria :gini| n_estimators 100| depth : 50 => accuracy 0.8657851239669421\n",
            "criteria :gini| n_estimators 100| depth : 100 => accuracy 0.8657851239669421\n",
            "criteria :gini| n_estimators 200| depth : 10 => accuracy 0.8641184573002756\n",
            "criteria :gini| n_estimators 200| depth : 50 => accuracy 0.8657851239669421\n",
            "criteria :gini| n_estimators 200| depth : 100 => accuracy 0.8657851239669421\n",
            "criteria :gini| n_estimators 400| depth : 10 => accuracy 0.8641184573002756\n",
            "criteria :gini| n_estimators 400| depth : 50 => accuracy 0.8674517906336089\n",
            "criteria :gini| n_estimators 400| depth : 100 => accuracy 0.8674517906336089\n",
            "criteria :entropy| n_estimators 50| depth : 10 => accuracy 0.8707851239669422\n",
            "criteria :entropy| n_estimators 50| depth : 50 => accuracy 0.8724380165289256\n",
            "criteria :entropy| n_estimators 50| depth : 100 => accuracy 0.8724380165289256\n",
            "criteria :entropy| n_estimators 100| depth : 10 => accuracy 0.8625068870523416\n",
            "criteria :entropy| n_estimators 100| depth : 50 => accuracy 0.8657851239669421\n",
            "criteria :entropy| n_estimators 100| depth : 100 => accuracy 0.8657851239669421\n",
            "criteria :entropy| n_estimators 200| depth : 10 => accuracy 0.8591597796143251\n",
            "criteria :entropy| n_estimators 200| depth : 50 => accuracy 0.864146005509642\n",
            "criteria :entropy| n_estimators 200| depth : 100 => accuracy 0.864146005509642\n",
            "criteria :entropy| n_estimators 400| depth : 10 => accuracy 0.8574931129476585\n",
            "criteria :entropy| n_estimators 400| depth : 50 => accuracy 0.8591460055096419\n",
            "criteria :entropy| n_estimators 400| depth : 100 => accuracy 0.8591460055096419\n"
          ]
        }
      ]
    },
    {
      "cell_type": "code",
      "source": [
        "rf = RandomForestClassifier(criterion = 'entropy', n_estimators=50, max_depth=50, random_state=42)\n",
        "rf = rf.fit(X_train,y_train)\n",
        "\n",
        "y_pred = rf.predict(X_test)"
      ],
      "metadata": {
        "id": "haeeoNP8N4YY"
      },
      "execution_count": null,
      "outputs": []
    },
    {
      "cell_type": "code",
      "source": [
        "print(f'random forest accuracy on train set: {rf.score(X_train, y_train)}')\n",
        "print(f'random forest accuracy on test set : {rf.score(X_test, y_test)}')"
      ],
      "metadata": {
        "colab": {
          "base_uri": "https://localhost:8080/"
        },
        "outputId": "a59f7311-13d5-40c4-ccb3-93c741e6121d",
        "id": "N7AnpX4gOSR_"
      },
      "execution_count": null,
      "outputs": [
        {
          "output_type": "stream",
          "name": "stdout",
          "text": [
            "random forest accuracy on train set: 1.0\n",
            "random forest accuracy on test set : 0.8552631578947368\n"
          ]
        }
      ]
    },
    {
      "cell_type": "code",
      "source": [
        "print(classification_report(y_test, y_pred))"
      ],
      "metadata": {
        "colab": {
          "base_uri": "https://localhost:8080/"
        },
        "id": "2tCa8Y0K-IY0",
        "outputId": "91164d7b-82b1-4abd-e32c-e6a5433ccf2d"
      },
      "execution_count": null,
      "outputs": [
        {
          "output_type": "stream",
          "name": "stdout",
          "text": [
            "              precision    recall  f1-score   support\n",
            "\n",
            "           0       0.84      0.54      0.66        39\n",
            "           1       0.86      0.96      0.91       113\n",
            "\n",
            "    accuracy                           0.86       152\n",
            "   macro avg       0.85      0.75      0.78       152\n",
            "weighted avg       0.85      0.86      0.84       152\n",
            "\n"
          ]
        }
      ]
    },
    {
      "cell_type": "code",
      "source": [
        "confusion_matrix(y_test, y_pred)"
      ],
      "metadata": {
        "colab": {
          "base_uri": "https://localhost:8080/",
          "height": 295
        },
        "id": "MMOzRTpp-MI9",
        "outputId": "fcba5c65-a8eb-4385-883d-ffbdd6865357"
      },
      "execution_count": null,
      "outputs": [
        {
          "output_type": "display_data",
          "data": {
            "image/png": "[encoded data removed]",
            "text/plain": [
              "<Figure size 432x288 with 2 Axes>"
            ]
          },
          "metadata": {
            "needs_background": "light"
          }
        }
      ]
    },
    {
      "cell_type": "markdown",
      "source": [
        "## XGBoost Classfier"
      ],
      "metadata": {
        "id": "SkhlNPEKGvZM"
      }
    },
    {
      "cell_type": "code",
      "source": [
        "from xgboost import XGBClassifier\n",
        "\n",
        "max_depth = [5, 10, 50]\n",
        "n_estimators = [300, 500]\n",
        "learning_rate = [0.1, 0.01, 0.001]\n",
        "\n",
        "for depth in max_depth:\n",
        "  for n in n_estimators:\n",
        "    for lr in learning_rate:\n",
        "\n",
        "      xgb = XGBClassifier(max_depth=depth, n_estimators=n, learning_rate=lr,random_state=42)\n",
        "      scores = cross_val_score(xgb, X_train, y_train, cv=5)\n",
        "      print(f'depth: {depth}| n_estimators {n}| lr {lr}  => accuracy {scores.mean()}')"
      ],
      "metadata": {
        "colab": {
          "base_uri": "https://localhost:8080/"
        },
        "id": "uD_sNxGQOnHP",
        "outputId": "5ac5847e-af70-471c-e822-c0666b791a90"
      },
      "execution_count": null,
      "outputs": [
        {
          "output_type": "stream",
          "name": "stdout",
          "text": [
            "depth: 5| n_estimators 300| lr 0.1  => accuracy 0.8823553719008265\n",
            "depth: 5| n_estimators 300| lr 0.01  => accuracy 0.8723691460055096\n",
            "depth: 5| n_estimators 300| lr 0.001  => accuracy 0.8161432506887053\n",
            "depth: 5| n_estimators 500| lr 0.1  => accuracy 0.8840082644628099\n",
            "depth: 5| n_estimators 500| lr 0.01  => accuracy 0.8790220385674932\n",
            "depth: 5| n_estimators 500| lr 0.001  => accuracy 0.8243939393939395\n",
            "depth: 10| n_estimators 300| lr 0.1  => accuracy 0.8873415977961432\n",
            "depth: 10| n_estimators 300| lr 0.01  => accuracy 0.8690909090909091\n",
            "depth: 10| n_estimators 300| lr 0.001  => accuracy 0.8095179063360881\n",
            "depth: 10| n_estimators 500| lr 0.1  => accuracy 0.8856749311294767\n",
            "depth: 10| n_estimators 500| lr 0.01  => accuracy 0.8756749311294767\n",
            "depth: 10| n_estimators 500| lr 0.001  => accuracy 0.8194490358126721\n",
            "depth: 50| n_estimators 300| lr 0.1  => accuracy 0.8873415977961432\n",
            "depth: 50| n_estimators 300| lr 0.01  => accuracy 0.8707300275482094\n",
            "depth: 50| n_estimators 300| lr 0.001  => accuracy 0.812823691460055\n",
            "depth: 50| n_estimators 500| lr 0.1  => accuracy 0.8873278236914599\n",
            "depth: 50| n_estimators 500| lr 0.01  => accuracy 0.8723691460055096\n",
            "depth: 50| n_estimators 500| lr 0.001  => accuracy 0.8161432506887053\n"
          ]
        }
      ]
    },
    {
      "cell_type": "code",
      "source": [
        "xgb = XGBClassifier(max_depth=10, n_estimator=300, learning_rate=0.1, random_state=42)\n",
        "xgb = xgb.fit(X_train,y_train)\n",
        "\n",
        "y_pred = xgb.predict(X_test)"
      ],
      "metadata": {
        "id": "JqVYtbRtXi4W"
      },
      "execution_count": null,
      "outputs": []
    },
    {
      "cell_type": "code",
      "source": [
        "print(f'xgb accuracy on train set: {xgb.score(X_train, y_train)}')\n",
        "print(f'xgb forest accuracy on test set : {xgb.score(X_test, y_test)}')"
      ],
      "metadata": {
        "colab": {
          "base_uri": "https://localhost:8080/"
        },
        "outputId": "e43a28d1-c1c8-4b39-c9d9-3012297f372e",
        "id": "dLHqsXjrXi4Y"
      },
      "execution_count": null,
      "outputs": [
        {
          "output_type": "stream",
          "name": "stdout",
          "text": [
            "xgb accuracy on train set: 1.0\n",
            "xgb forest accuracy on test set : 0.875\n"
          ]
        }
      ]
    },
    {
      "cell_type": "code",
      "source": [
        "print(classification_report(y_test, y_pred))"
      ],
      "metadata": {
        "colab": {
          "base_uri": "https://localhost:8080/"
        },
        "id": "aMsZ_7JHHMiF",
        "outputId": "ddbd760d-9b0e-4af4-865f-6fa1dabf0170"
      },
      "execution_count": null,
      "outputs": [
        {
          "output_type": "stream",
          "name": "stdout",
          "text": [
            "              precision    recall  f1-score   support\n",
            "\n",
            "           0       0.86      0.62      0.72        39\n",
            "           1       0.88      0.96      0.92       113\n",
            "\n",
            "    accuracy                           0.88       152\n",
            "   macro avg       0.87      0.79      0.82       152\n",
            "weighted avg       0.87      0.88      0.87       152\n",
            "\n"
          ]
        }
      ]
    },
    {
      "cell_type": "code",
      "source": [
        "confusion_matrix(y_test, y_pred)"
      ],
      "metadata": {
        "colab": {
          "base_uri": "https://localhost:8080/",
          "height": 295
        },
        "id": "DVndROWUHOyN",
        "outputId": "3a75043f-3890-458d-990f-cd7d2beae6e4"
      },
      "execution_count": null,
      "outputs": [
        {
          "output_type": "display_data",
          "data": {
            "image/png": "[encoded data removed]",
            "text/plain": [
              "<Figure size 432x288 with 2 Axes>"
            ]
          },
          "metadata": {
            "needs_background": "light"
          }
        }
      ]
    },
    {
      "cell_type": "markdown",
      "source": [
        "## SVM Classifier"
      ],
      "metadata": {
        "id": "Ej8LeiA7exdN"
      }
    },
    {
      "cell_type": "code",
      "source": [
        "from sklearn import svm\n",
        "\n",
        "kernel = ['linear', 'rbf']\n",
        "\n",
        "for kernel in kernel:\n",
        "        \n",
        "    svc = svm.SVC(kernel=kernel, random_state=42)\n",
        "    scores = cross_val_score(svc, X_train, y_train, cv=5)\n",
        "    print(f'kernel : {kernel} => accuracy {scores.mean()}')"
      ],
      "metadata": {
        "colab": {
          "base_uri": "https://localhost:8080/"
        },
        "id": "MnySpk2UX0hZ",
        "outputId": "9d8f1953-ba8e-4206-e172-dff20495d6a6"
      },
      "execution_count": null,
      "outputs": [
        {
          "output_type": "stream",
          "name": "stdout",
          "text": [
            "kernel : linear => accuracy 0.8161983471074381\n",
            "kernel : rbf => accuracy 0.8592148760330577\n"
          ]
        }
      ]
    },
    {
      "cell_type": "code",
      "source": [
        "svc = svm.SVC(kernel='sigmoid', random_state=42)\n",
        "svc = svc.fit(X_train,y_train)\n",
        "\n",
        "y_pred = svc.predict(X_test)"
      ],
      "metadata": {
        "id": "SJpakCs3Z1JC"
      },
      "execution_count": null,
      "outputs": []
    },
    {
      "cell_type": "code",
      "source": [
        "print(f'svc accuracy on train set: {svc.score(X_train, y_train)}')\n",
        "print(f'svc accuracy on test set : {svc.score(X_test, y_test)}')"
      ],
      "metadata": {
        "colab": {
          "base_uri": "https://localhost:8080/"
        },
        "outputId": "287dd164-2c59-4e33-9670-4f5d5a12a618",
        "id": "eU0MRpTxZ1JF"
      },
      "execution_count": null,
      "outputs": [
        {
          "output_type": "stream",
          "name": "stdout",
          "text": [
            "svc accuracy on train set: 0.8741721854304636\n",
            "svc accuracy on test set : 0.8289473684210527\n"
          ]
        }
      ]
    },
    {
      "cell_type": "code",
      "source": [
        "print(classification_report(y_test, y_pred))"
      ],
      "metadata": {
        "colab": {
          "base_uri": "https://localhost:8080/"
        },
        "id": "PL6l8CHCfg6I",
        "outputId": "9ba533d5-0337-48c6-ba0c-617fd0605e28"
      },
      "execution_count": null,
      "outputs": [
        {
          "output_type": "stream",
          "name": "stdout",
          "text": [
            "              precision    recall  f1-score   support\n",
            "\n",
            "           0       0.74      0.51      0.61        39\n",
            "           1       0.85      0.94      0.89       113\n",
            "\n",
            "    accuracy                           0.83       152\n",
            "   macro avg       0.79      0.73      0.75       152\n",
            "weighted avg       0.82      0.83      0.82       152\n",
            "\n"
          ]
        }
      ]
    },
    {
      "cell_type": "code",
      "source": [
        "confusion_matrix(y_test, y_pred)"
      ],
      "metadata": {
        "colab": {
          "base_uri": "https://localhost:8080/",
          "height": 295
        },
        "id": "oxYs5I2Ofgp0",
        "outputId": "fe0215bd-927c-4ed0-e15e-5e7c4bf542c8"
      },
      "execution_count": null,
      "outputs": [
        {
          "output_type": "display_data",
          "data": {
            "image/png": "[encoded data removed]",
            "text/plain": [
              "<Figure size 432x288 with 2 Axes>"
            ]
          },
          "metadata": {
            "needs_background": "light"
          }
        }
      ]
    },
    {
      "cell_type": "markdown",
      "source": [
        "## Extreme Learning Machine"
      ],
      "metadata": {
        "id": "GA6WjPGIkGcD"
      }
    },
    {
      "cell_type": "markdown",
      "source": [
        "= a neural network without parameter tuning.\n",
        "\n",
        "The ELM algorithm is similar to other neural networks with 3 key differences:\n",
        "\n",
        "1.  The number of hidden units is usually larger than in \n",
        "other neural networks that are trained using backpropagation.\n",
        "2.  The weights from input to hidden layer are randomly generated, usually using values from a continuous uniform distribution.\n",
        "3.  The output neurons are linear rather than sigmoidal, this means we can use least square errors regression to solve the output weights.\n",
        "\n"
      ],
      "metadata": {
        "id": "twCNTSpu9GPk"
      }
    },
    {
      "cell_type": "markdown",
      "source": [
        "with 20,000 nodes in hidden layer , notebook crashed."
      ],
      "metadata": {
        "id": "hNHEXp_DMCTH"
      }
    },
    {
      "cell_type": "code",
      "source": [
        "def hidden_output(x, Win):\n",
        "  \"\"\"caculate output of hidden layer\"\"\"\n",
        "  a = np.dot(x, Win)\n",
        "  a = a + biases\n",
        "  a = np.maximum(a, 0, a) # ReLUr\n",
        "  return a\n",
        "\n",
        "def W_hidden_output(x, y, Win):\n",
        "  \"\"\"calculate weight between hidden layer and output\"\"\"\n",
        "  H = hidden_output(x, Win)\n",
        "  Ht = np.transpose(H)\n",
        "  Wout = np.dot(np.linalg.inv(np.dot(Ht, H)), np.dot(Ht, y))\n",
        "  return Wout\n",
        "\n",
        "def sigmoid(x):\n",
        "  return 1 / (1 + np.exp(-x))\n",
        "\n",
        "def predict(x, Win, Wout):\n",
        "  H = hidden_output(x, Win)\n",
        "  y_pred = np.dot(H, Wout)\n",
        "  y_pred = sigmoid(y_pred)\n",
        "  y_pred = np.round(y_pred)\n",
        "  return y_pred\n"
      ],
      "metadata": {
        "id": "dlC7qor8FM-A"
      },
      "execution_count": null,
      "outputs": []
    },
    {
      "cell_type": "code",
      "source": [
        "input_size = X_train.shape[1]\n",
        "hidden_neurons = 7000\n",
        "\n",
        "Win = np.random.normal(size=[input_size, hidden_neurons])\n",
        "biases = np.random.normal(size=[hidden_neurons])\n",
        "print(f'biases for hidden layer shape : {biases.shape}')\n",
        "print(f'weight from input to hidden shape : {Win.shape}')\n",
        "print(f'10 first element of the first row of Win : \\n {Win[0][:10]}')"
      ],
      "metadata": {
        "colab": {
          "base_uri": "https://localhost:8080/"
        },
        "id": "ymajb9_DBHqc",
        "outputId": "56796bd8-64ce-413c-8f72-537cf604470f"
      },
      "execution_count": null,
      "outputs": [
        {
          "output_type": "stream",
          "name": "stdout",
          "text": [
            "biases for hidden layer shape : (7000,)\n",
            "weight from input to hidden shape : (753, 7000)\n",
            "10 first element of the first row of Win : \n",
            " [ 1.76405235  0.40015721  0.97873798  2.2408932   1.86755799 -0.97727788\n",
            "  0.95008842 -0.15135721 -0.10321885  0.4105985 ]\n"
          ]
        }
      ]
    },
    {
      "cell_type": "code",
      "source": [
        "cv_scores = {'Accuracy': []}\n",
        "fold = StratifiedKFold(5)\n",
        "\n",
        "X, y = X_train, y_train\n",
        "\n",
        "for train_index, valid_index in fold.split(X, y):\n",
        "    x_train_, x_valid = X[train_index], X[valid_index]\n",
        "    y_train_, y_valid = y.iloc[train_index], y.iloc[valid_index]\n",
        "    \n",
        "    Wout = W_hidden_output(x_train_, y_train_, Win)\n",
        "    y_pred_valid = predict(x_valid, Win, Wout)\n",
        "    cv_scores['Accuracy'].append(accuracy_score(y_valid, y_pred_valid))\n",
        "\n",
        "mean_cv_scores = {k: np.mean(v) for k, v in cv_scores.items()}      \n",
        "print(f\"ELM accuracy : {mean_cv_scores['Accuracy']}\")"
      ],
      "metadata": {
        "id": "oo5ld53SR23E",
        "colab": {
          "base_uri": "https://localhost:8080/"
        },
        "outputId": "04b99538-0d7a-4300-beac-63aa53f10e86"
      },
      "execution_count": null,
      "outputs": [
        {
          "output_type": "stream",
          "name": "stdout",
          "text": [
            "ELM accuracy : 0.46690082644628095\n"
          ]
        }
      ]
    },
    {
      "cell_type": "code",
      "source": [
        "Wout = W_hidden_output(X_train, y_train, Win)\n",
        "y_pred_train = predict(X_train, Win, Wout)\n",
        "y_pred_test = predict(X_test, Win, Wout)"
      ],
      "metadata": {
        "id": "L3UrKkj35VgW"
      },
      "execution_count": null,
      "outputs": []
    },
    {
      "cell_type": "code",
      "source": [
        "print(f'elm accuracy on train set: {accuracy_score(y_train, y_pred_train)}')\n",
        "print(f'elm accuracy on test set : {accuracy_score(y_test, y_pred_test)}')"
      ],
      "metadata": {
        "colab": {
          "base_uri": "https://localhost:8080/"
        },
        "id": "6lbSpM4WxeaN",
        "outputId": "edf92898-7538-4322-8ba3-676282cc7b7c"
      },
      "execution_count": null,
      "outputs": [
        {
          "output_type": "stream",
          "name": "stdout",
          "text": [
            "elm accuracy on train set: 0.4552980132450331\n",
            "elm accuracy on test set : 0.5328947368421053\n"
          ]
        }
      ]
    },
    {
      "cell_type": "code",
      "source": [
        "print(classification_report(y_test, y_pred_test))"
      ],
      "metadata": {
        "colab": {
          "base_uri": "https://localhost:8080/"
        },
        "id": "7DLvDUTTyVK7",
        "outputId": "f679c8cf-3c31-44ad-8818-f38f9494a37c"
      },
      "execution_count": null,
      "outputs": [
        {
          "output_type": "stream",
          "name": "stdout",
          "text": [
            "              precision    recall  f1-score   support\n",
            "\n",
            "           0       0.26      0.44      0.32        39\n",
            "           1       0.74      0.57      0.64       113\n",
            "\n",
            "    accuracy                           0.53       152\n",
            "   macro avg       0.50      0.50      0.48       152\n",
            "weighted avg       0.62      0.53      0.56       152\n",
            "\n"
          ]
        }
      ]
    },
    {
      "cell_type": "code",
      "source": [
        "confusion_matrix(y_test, y_pred_test)"
      ],
      "metadata": {
        "colab": {
          "base_uri": "https://localhost:8080/",
          "height": 295
        },
        "id": "MbbGEedNyVyQ",
        "outputId": "0e0b9ab3-a728-4a68-e0f7-f1f6ef13fa85"
      },
      "execution_count": null,
      "outputs": [
        {
          "output_type": "display_data",
          "data": {
            "image/png": "[encoded data removed]",
            "text/plain": [
              "<Figure size 432x288 with 2 Axes>"
            ]
          },
          "metadata": {
            "needs_background": "light"
          }
        }
      ]
    },
    {
      "cell_type": "markdown",
      "source": [
        "As we can see, this model has a bad result. because it's result is worse than baseline model. The reason is that our model is simpler than our data and can't understand and learn data. we need model with higher complexity or we should use `pca` for dimentionality reduction and the new data can learn using simple model."
      ],
      "metadata": {
        "id": "QMy_ljTzODjE"
      }
    },
    {
      "cell_type": "markdown",
      "source": [
        "## Multi Layer Perceptron"
      ],
      "metadata": {
        "id": "rhCTib59FSyy"
      }
    },
    {
      "cell_type": "markdown",
      "source": [
        "### Prepare data"
      ],
      "metadata": {
        "id": "SCes8X7hPqkd"
      }
    },
    {
      "cell_type": "markdown",
      "source": [
        "For MLP we used `Pytorch`. in pytorch we should create class for our dataset then create loader for train and test data and then train the model."
      ],
      "metadata": {
        "id": "0nKx9-tsR5UU"
      }
    },
    {
      "cell_type": "code",
      "source": [
        "import torch\n",
        "import torch.nn as nn\n",
        "import torch.nn.functional as F\n",
        "import torch.optim as optim\n",
        "from torch.optim import lr_scheduler\n",
        "from torch.utils.data import Dataset, DataLoader\n",
        "\n",
        "from tqdm import tqdm"
      ],
      "metadata": {
        "id": "1D4A7jRgcK2w"
      },
      "execution_count": 9,
      "outputs": []
    },
    {
      "cell_type": "markdown",
      "source": [
        "Let's implement a custom Dataset class.\n"
      ],
      "metadata": {
        "id": "wsCylxtDcJ0h"
      }
    },
    {
      "cell_type": "code",
      "source": [
        "class ParkinsonData(Dataset):\n",
        "    def __init__(self, X, y):\n",
        "        self.n_samples = X.shape[0]\n",
        "        # convert DataFrame to numpy array\n",
        "        y = y.to_numpy()\n",
        "        # convert numpy to tensor\n",
        "        self.x_data = torch.from_numpy(X.astype(np.float32)) # size [n_samples, n_features]\n",
        "        self.y_data = torch.from_numpy(y.astype(np.float32)) # size [n_samples, 1]\n",
        "\n",
        "    # support indexing such that dataset[i] can be used to get i-th sample\n",
        "    def __getitem__(self, index):\n",
        "        return self.x_data[index], self.y_data[index]\n",
        "\n",
        "    # we can call len(dataset) to return the size\n",
        "    def __len__(self):\n",
        "        return self.n_samples"
      ],
      "metadata": {
        "id": "Y3UI1cw95r1A"
      },
      "execution_count": 10,
      "outputs": []
    },
    {
      "cell_type": "markdown",
      "source": [
        "Let's pass standarization X_train, X_test, y_train and y_test from EDA part."
      ],
      "metadata": {
        "id": "Sstbnq85dPjv"
      }
    },
    {
      "cell_type": "code",
      "source": [
        "# Create data\n",
        "train_data = ParkinsonData(X_train, y_train)\n",
        "test_data = ParkinsonData(X_test, y_test)"
      ],
      "metadata": {
        "id": "9_2yDbU0c2ke"
      },
      "execution_count": 11,
      "outputs": []
    },
    {
      "cell_type": "code",
      "source": [
        "# get first sample of train data\n",
        "x_sample, y_sample = train_data[0]\n",
        "print(f'10 first element of x_sample : \\n{x_sample[:10]} \\nand y_sample : \\n{y_sample}')\n",
        "print(f'x_sample shape : {x_sample.shape} and y_sample shape : {y_sample}')"
      ],
      "metadata": {
        "colab": {
          "base_uri": "https://localhost:8080/"
        },
        "id": "fDaJ23oJdrHN",
        "outputId": "5afb1ee7-f4d1-45ea-e41b-7e57043bb276"
      },
      "execution_count": 12,
      "outputs": [
        {
          "output_type": "stream",
          "name": "stdout",
          "text": [
            "10 first element of x_sample : \n",
            "tensor([-1.0406,  0.6072, -2.0755, -0.7252,  1.8524,  1.8516, -1.3943, -0.4869,\n",
            "        -0.6329, -0.6138]) \n",
            "and y_sample : \n",
            "tensor([1.])\n",
            "x_sample shape : torch.Size([753]) and y_sample shape : tensor([1.])\n"
          ]
        }
      ]
    },
    {
      "cell_type": "markdown",
      "source": [
        "Let's create dataloders."
      ],
      "metadata": {
        "id": "CkiGtlDte3lK"
      }
    },
    {
      "cell_type": "code",
      "source": [
        "# set parameters\n",
        "BATCH_SIZE=10\n",
        "input_size = X.shape[1]\n",
        "output_size = 1\n",
        "num_epoch = 4 \n",
        "learning_rate = 0.001"
      ],
      "metadata": {
        "id": "PhHJ2bk7h9f-"
      },
      "execution_count": 13,
      "outputs": []
    },
    {
      "cell_type": "code",
      "source": [
        "# Create dataloaders\n",
        "train_loader = torch.utils.data.DataLoader(dataset = train_data, batch_size = BATCH_SIZE, shuffle = False) # \n",
        "test_loader = torch.utils.data.DataLoader(dataset = test_data, batch_size = BATCH_SIZE, shuffle = False)\n",
        "\n",
        "print(f'length of train data is : {len(train_data)} and length of train loader is : {len(train_loader)}')\n",
        "print(f'length of test data is : {len(test_data)} and length of test loader is : {len(test_loader)}')"
      ],
      "metadata": {
        "id": "tRPwoc0aejz_",
        "colab": {
          "base_uri": "https://localhost:8080/"
        },
        "outputId": "7e84312a-4290-4a72-a667-1a988a74c0e6"
      },
      "execution_count": 14,
      "outputs": [
        {
          "output_type": "stream",
          "name": "stdout",
          "text": [
            "length of train data is : 604 and length of train loader is : 61\n",
            "length of test data is : 152 and length of test loader is : 16\n"
          ]
        }
      ]
    },
    {
      "cell_type": "code",
      "source": [
        "# get an example of train loader\n",
        "example= iter(train_loader)\n",
        "\n",
        "# unpack example\n",
        "sample_x,sample_y = example.next()\n",
        "print(f'samples shape : {sample_x.shape} ,labels shape : {sample_y.shape}')"
      ],
      "metadata": {
        "colab": {
          "base_uri": "https://localhost:8080/"
        },
        "id": "vwuQ0m8miOZD",
        "outputId": "3f5d25d6-3c58-4db8-e0e1-0f627f12016a"
      },
      "execution_count": 15,
      "outputs": [
        {
          "output_type": "stream",
          "name": "stdout",
          "text": [
            "samples shape : torch.Size([10, 753]) ,labels shape : torch.Size([10, 1])\n"
          ]
        }
      ]
    },
    {
      "cell_type": "markdown",
      "source": [
        "### Create Model"
      ],
      "metadata": {
        "id": "uadizDqjPxAQ"
      }
    },
    {
      "cell_type": "markdown",
      "source": [
        "Let's create a class for our neural network."
      ],
      "metadata": {
        "id": "fTZvT7Lc2IUV"
      }
    },
    {
      "cell_type": "code",
      "source": [
        "# create neural network class\n",
        "class NeuralNet(nn.Module):\n",
        "  def __init__(self, input_size, num_classes):\n",
        "    super(NeuralNet, self).__init__()\n",
        "    self.fc = nn.Sequential(\n",
        "    nn.Linear(input_size, 100),\n",
        "    nn.Dropout(0.5),\n",
        "    nn.ReLU(),\n",
        "    nn.Linear(100, 50),\n",
        "    nn.Dropout(0.2),\n",
        "    nn.ReLU(),\n",
        "    nn.Linear(50, 1),\n",
        "    nn.Sigmoid())\n",
        "\n",
        "  def forward(self,x):\n",
        "    out = self.fc(x)\n",
        "    return out"
      ],
      "metadata": {
        "id": "_E1tMOPhia0H"
      },
      "execution_count": 16,
      "outputs": []
    },
    {
      "cell_type": "markdown",
      "source": [
        "Let's define necessary functions."
      ],
      "metadata": {
        "id": "wiGozLwlP8Xw"
      }
    },
    {
      "cell_type": "code",
      "source": [
        "# define a function to calculate accuracy\n",
        "def accuracy(y_pred, y_act):\n",
        "  y_pred = torch.round(y_pred)\n",
        "  correct = (y_pred == y_act)\n",
        "  acc = correct.sum()/len(correct)\n",
        "  acc = torch.round(acc*100)\n",
        "  return acc\n",
        "\n",
        "# define a function for training a model\n",
        "def train_fun(model1, train_loader):\n",
        "  train_epoch_loss = 0\n",
        "  train_epoch_acc = 0\n",
        "  model1.train() # train the model\n",
        "  loop = tqdm(enumerate(train_loader), total = total_step, leave = False)\n",
        "\n",
        "  for i, batch in loop:\n",
        "    optimizer.zero_grad()\n",
        "    x, y = batch # retrieve x and y\n",
        "    x = x.to(device)\n",
        "    y = y.to(device)\n",
        "    y_pred = model1(x)\n",
        "    loss_train = criterion(y_pred, y)\n",
        "    acc_train = accuracy(y_pred, y)\n",
        "    loss_train.backward()\n",
        "    optimizer.step()\n",
        "\n",
        "    train_epoch_loss += loss_train.item()\n",
        "    train_epoch_acc += acc_train.item()\n",
        "    loop.set_description(f'Epoch : [{epoch}/{num_epoch}]')\n",
        "    loop.set_postfix(loss = loss_train.item(), accuracy = acc_train.item()) \n",
        "  \n",
        "  train_loss.append(train_epoch_loss/len(train_loader))\n",
        "  train_acc.append(train_epoch_acc/len(train_loader))  \n",
        "      \n",
        "  # if you want to monitor your model in tensorboard   \n",
        "  writer.add_scalar('training loss',train_epoch_loss/len(train_loader) , epoch)\n",
        "  writer.add_scalar('training accuracy',train_epoch_acc/len(train_loader) , epoch)\n",
        "  return train_loss, train_acc\n",
        "\n",
        "# define a function for evaluating model\n",
        "def evaluate(model1, valid_loader):\n",
        "  with torch.no_grad():\n",
        "    model1.eval()\n",
        "    val_epoch_loss = 0\n",
        "    val_epoch_acc = 0\n",
        "\n",
        "    for batch in valid_loader:\n",
        "      x, y = batch\n",
        "      x = x.to(device)\n",
        "      y = y.to(device)\n",
        "      y_pred_val = model1(x)\n",
        "      loss_valid = criterion(y_pred_val, y)\n",
        "      acc_valid = accuracy(y_pred_val, y) \n",
        "      val_epoch_loss += loss_valid.item()\n",
        "      val_epoch_acc += acc_valid.item()\n",
        "\n",
        "    valid_loss.append(val_epoch_loss/len(valid_loader))\n",
        "    valid_acc.append(val_epoch_acc/len(valid_loader))  \n",
        "\n",
        "    writer.add_scalar('validation loss',val_epoch_loss/len(valid_loader) , epoch)\n",
        "    writer.add_scalar('validation accuracy',val_epoch_acc/len(valid_loader) , epoch)\n",
        "  return valid_loss, valid_acc\n",
        "\n",
        "# define a function for evaluating model on test set\n",
        "def test(model1, test_loader):\n",
        "  y_pred_test = []\n",
        "  y_actual_test = []\n",
        "\n",
        "  model1.eval()\n",
        "  with torch.no_grad():\n",
        "    n_true = 0\n",
        "    n_total = 0\n",
        "    n_class_correct = [0 for i in range(num_class)]\n",
        "    n_class_sample = [0 for i in range(num_class)]\n",
        "  \n",
        "    for batch in test_loader:\n",
        "      x, y = batch\n",
        "      output = model1(x)\n",
        "      y_predtest = torch.round(output)\n",
        "      n_true += (y_predtest == y).sum()\n",
        "      n_total += y.size(0)\n",
        "\n",
        "      for i in range(len(y_predtest)):\n",
        "        y_pred_test.append(y_predtest[i])\n",
        "        y_actual_test.append(y[i].item())\n",
        "\n",
        "      for i in range(len(y_predtest)):\n",
        "        lb = int(y[i].item())\n",
        "        pred = y_predtest[i]\n",
        "        if pred == lb:\n",
        "          n_class_correct[lb] += 1\n",
        "        n_class_sample[lb] += 1   \n",
        "\n",
        "    print(f'accuracy of network on the {len(test_loader)} data is : {(n_true/n_total) *100}')\n",
        "  \n",
        "    for i in range(len(classes)):\n",
        "      acc = 100.0 * n_class_correct[i] / n_class_sample[i]\n",
        "      print(f'Accuracy of {classes[i]}: {acc} %')\n",
        "  \n",
        "  return y_pred_test, y_actual_test  "
      ],
      "metadata": {
        "id": "kKjArgrtnOW7"
      },
      "execution_count": 17,
      "outputs": []
    },
    {
      "cell_type": "markdown",
      "source": [
        "### Parameter tuning using Cross validation "
      ],
      "metadata": {
        "id": "grxJIwKhQazu"
      }
    },
    {
      "cell_type": "code",
      "source": [
        "device = torch.device('cuda' if torch.cuda.is_available() else 'cpu')\n",
        "device"
      ],
      "metadata": {
        "colab": {
          "base_uri": "https://localhost:8080/"
        },
        "id": "JngjvfS4wiOq",
        "outputId": "3c0e068c-065f-489a-ae8b-10ea9f23deb6"
      },
      "execution_count": 18,
      "outputs": [
        {
          "output_type": "execute_result",
          "data": {
            "text/plain": [
              "device(type='cpu')"
            ]
          },
          "metadata": {},
          "execution_count": 18
        }
      ]
    },
    {
      "cell_type": "code",
      "source": [
        "from torch.utils.tensorboard import SummaryWriter\n",
        "writer = SummaryWriter('parkinson')"
      ],
      "metadata": {
        "id": "CayVhRrW4K2-"
      },
      "execution_count": 19,
      "outputs": []
    },
    {
      "cell_type": "code",
      "source": [
        "# %reload_ext tensorboard\n",
        "# %tensorboard --logdir 'parkinson'"
      ],
      "metadata": {
        "id": "Ydp2suA84OQj"
      },
      "execution_count": null,
      "outputs": []
    },
    {
      "cell_type": "code",
      "source": [
        "fold = StratifiedKFold(5) # shuffle false because we shuffled data in splitting train and test section\n",
        "cv_scores = {'Accuracy' : []}\n",
        "\n",
        "for fold, (train_ids, valid_ids) in enumerate(fold.split(X_train, y_train)):\n",
        "  # sample elements randomly from a give list of ids, no replacement\n",
        "  train_subsampler = torch.utils.data.SubsetRandomSampler(train_ids)\n",
        "  valid_subsampler = torch.utils.data.SubsetRandomSampler(valid_ids)\n",
        "\n",
        "  # create dataloader for train and valid data in this fold\n",
        "  trainloader = torch.utils.data.DataLoader(train_data, batch_size=BATCH_SIZE, sampler=train_subsampler)\n",
        "  validloader = torch.utils.data.DataLoader(train_data, batch_size=BATCH_SIZE, sampler=valid_subsampler)\n",
        "\n",
        "  model = NeuralNet(input_size, output_size)\n",
        "  optimizer = torch.optim.Adam(model.parameters(), lr= learning_rate)\n",
        "  criterion = nn.BCELoss()\n",
        "  scheduler = lr_scheduler.StepLR(optimizer, 3, gamma=0.5)\n",
        "\n",
        "  total_step = len(trainloader)\n",
        "  train_loss, valid_loss = [], []\n",
        "  train_acc, valid_acc = [], []\n",
        "\n",
        "  for epoch in range(num_epoch):\n",
        "    train_loss, train_acc = train_fun(model, trainloader)\n",
        "    writer.flush() \n",
        "    valid_loss, valid_acc = evaluate(model, validloader)   \n",
        "    print(f'fold {fold} => train acc : {train_acc[-1]:0.2f}| train loss : {train_loss[-1]:0.2f}| valid acc : {valid_acc[-1]:0.2f}| valid loss : {valid_loss[-1]:0.2f}')\n",
        "    scheduler.step()\n",
        "\n",
        "  cv_scores['Accuracy'].append(valid_acc[-1])\n"
      ],
      "metadata": {
        "colab": {
          "base_uri": "https://localhost:8080/"
        },
        "id": "zID0ihG7kO6X",
        "outputId": "4f35a732-ecae-452f-d686-6499045ee123"
      },
      "execution_count": 20,
      "outputs": [
        {
          "output_type": "stream",
          "name": "stderr",
          "text": [
            ""
          ]
        },
        {
          "output_type": "stream",
          "name": "stdout",
          "text": [
            "fold 0 => train acc : 73.47| train loss : 0.55| valid acc : 89.23| valid loss : 0.32\n"
          ]
        },
        {
          "output_type": "stream",
          "name": "stderr",
          "text": [
            ""
          ]
        },
        {
          "output_type": "stream",
          "name": "stdout",
          "text": [
            "fold 0 => train acc : 84.69| train loss : 0.40| valid acc : 92.31| valid loss : 0.25\n"
          ]
        },
        {
          "output_type": "stream",
          "name": "stderr",
          "text": [
            ""
          ]
        },
        {
          "output_type": "stream",
          "name": "stdout",
          "text": [
            "fold 0 => train acc : 88.16| train loss : 0.29| valid acc : 88.46| valid loss : 0.21\n"
          ]
        },
        {
          "output_type": "stream",
          "name": "stderr",
          "text": [
            ""
          ]
        },
        {
          "output_type": "stream",
          "name": "stdout",
          "text": [
            "fold 0 => train acc : 88.92| train loss : 0.27| valid acc : 90.77| valid loss : 0.19\n"
          ]
        },
        {
          "output_type": "stream",
          "name": "stderr",
          "text": [
            ""
          ]
        },
        {
          "output_type": "stream",
          "name": "stdout",
          "text": [
            "fold 1 => train acc : 72.59| train loss : 0.54| valid acc : 87.69| valid loss : 0.42\n"
          ]
        },
        {
          "output_type": "stream",
          "name": "stderr",
          "text": [
            ""
          ]
        },
        {
          "output_type": "stream",
          "name": "stdout",
          "text": [
            "fold 1 => train acc : 85.31| train loss : 0.34| valid acc : 87.69| valid loss : 0.33\n"
          ]
        },
        {
          "output_type": "stream",
          "name": "stderr",
          "text": [
            ""
          ]
        },
        {
          "output_type": "stream",
          "name": "stdout",
          "text": [
            "fold 1 => train acc : 89.59| train loss : 0.27| valid acc : 87.69| valid loss : 0.31\n"
          ]
        },
        {
          "output_type": "stream",
          "name": "stderr",
          "text": [
            ""
          ]
        },
        {
          "output_type": "stream",
          "name": "stdout",
          "text": [
            "fold 1 => train acc : 91.84| train loss : 0.21| valid acc : 89.23| valid loss : 0.28\n"
          ]
        },
        {
          "output_type": "stream",
          "name": "stderr",
          "text": [
            ""
          ]
        },
        {
          "output_type": "stream",
          "name": "stdout",
          "text": [
            "fold 2 => train acc : 77.00| train loss : 0.51| valid acc : 86.15| valid loss : 0.39\n"
          ]
        },
        {
          "output_type": "stream",
          "name": "stderr",
          "text": [
            ""
          ]
        },
        {
          "output_type": "stream",
          "name": "stdout",
          "text": [
            "fold 2 => train acc : 85.92| train loss : 0.36| valid acc : 86.15| valid loss : 0.35\n"
          ]
        },
        {
          "output_type": "stream",
          "name": "stderr",
          "text": [
            ""
          ]
        },
        {
          "output_type": "stream",
          "name": "stdout",
          "text": [
            "fold 2 => train acc : 87.90| train loss : 0.30| valid acc : 91.54| valid loss : 0.30\n"
          ]
        },
        {
          "output_type": "stream",
          "name": "stderr",
          "text": [
            ""
          ]
        },
        {
          "output_type": "stream",
          "name": "stdout",
          "text": [
            "fold 2 => train acc : 90.41| train loss : 0.22| valid acc : 92.31| valid loss : 0.26\n"
          ]
        },
        {
          "output_type": "stream",
          "name": "stderr",
          "text": [
            ""
          ]
        },
        {
          "output_type": "stream",
          "name": "stdout",
          "text": [
            "fold 3 => train acc : 76.12| train loss : 0.51| valid acc : 80.00| valid loss : 0.43\n"
          ]
        },
        {
          "output_type": "stream",
          "name": "stderr",
          "text": [
            ""
          ]
        },
        {
          "output_type": "stream",
          "name": "stdout",
          "text": [
            "fold 3 => train acc : 87.14| train loss : 0.36| valid acc : 83.85| valid loss : 0.39\n"
          ]
        },
        {
          "output_type": "stream",
          "name": "stderr",
          "text": [
            ""
          ]
        },
        {
          "output_type": "stream",
          "name": "stdout",
          "text": [
            "fold 3 => train acc : 88.78| train loss : 0.28| valid acc : 83.85| valid loss : 0.36\n"
          ]
        },
        {
          "output_type": "stream",
          "name": "stderr",
          "text": [
            ""
          ]
        },
        {
          "output_type": "stream",
          "name": "stdout",
          "text": [
            "fold 3 => train acc : 92.04| train loss : 0.22| valid acc : 83.08| valid loss : 0.35\n"
          ]
        },
        {
          "output_type": "stream",
          "name": "stderr",
          "text": [
            ""
          ]
        },
        {
          "output_type": "stream",
          "name": "stdout",
          "text": [
            "fold 4 => train acc : 80.31| train loss : 0.49| valid acc : 80.83| valid loss : 0.49\n"
          ]
        },
        {
          "output_type": "stream",
          "name": "stderr",
          "text": [
            ""
          ]
        },
        {
          "output_type": "stream",
          "name": "stdout",
          "text": [
            "fold 4 => train acc : 86.94| train loss : 0.32| valid acc : 81.67| valid loss : 0.42\n"
          ]
        },
        {
          "output_type": "stream",
          "name": "stderr",
          "text": [
            ""
          ]
        },
        {
          "output_type": "stream",
          "name": "stdout",
          "text": [
            "fold 4 => train acc : 89.59| train loss : 0.26| valid acc : 78.33| valid loss : 0.43\n"
          ]
        },
        {
          "output_type": "stream",
          "name": "stderr",
          "text": [
            ""
          ]
        },
        {
          "output_type": "stream",
          "name": "stdout",
          "text": [
            "fold 4 => train acc : 92.96| train loss : 0.19| valid acc : 80.83| valid loss : 0.45\n"
          ]
        }
      ]
    },
    {
      "cell_type": "code",
      "source": [
        "mean_cv_scores = {k: np.mean(v) for k, v in cv_scores.items()}  \n",
        "print(f\"mean accuracy using 5 foldCV : {mean_cv_scores['Accuracy']:0.2f}\")"
      ],
      "metadata": {
        "colab": {
          "base_uri": "https://localhost:8080/"
        },
        "id": "qHETMCeTvnu8",
        "outputId": "729788dc-4903-49aa-e5ca-fe9ee7278928"
      },
      "execution_count": 21,
      "outputs": [
        {
          "output_type": "stream",
          "name": "stdout",
          "text": [
            "mean accuracy using 5 foldCV : 87.24\n"
          ]
        }
      ]
    },
    {
      "cell_type": "markdown",
      "source": [
        "### Train the model"
      ],
      "metadata": {
        "id": "WHe9Mc1UQo2x"
      }
    },
    {
      "cell_type": "markdown",
      "source": [
        "After tune parameters uning kfold cross validation we should train a model with these parameters and test it."
      ],
      "metadata": {
        "id": "Bvn8VvsdDXVc"
      }
    },
    {
      "cell_type": "code",
      "source": [
        "# create model\n",
        "model = NeuralNet(input_size, output_size)\n",
        "\n",
        "# create loss and optimizer\n",
        "criterion = nn.BCELoss()\n",
        "optimizer = torch.optim.Adam(model.parameters(), lr= learning_rate)\n",
        "scheduler = lr_scheduler.StepLR(optimizer, 3, gamma=0.5)\n",
        "total_step = len(train_loader)"
      ],
      "metadata": {
        "id": "gz0YO3HZD0I1"
      },
      "execution_count": 22,
      "outputs": []
    },
    {
      "cell_type": "code",
      "source": [
        "model"
      ],
      "metadata": {
        "colab": {
          "base_uri": "https://localhost:8080/"
        },
        "id": "hLzZKyoeEJF5",
        "outputId": "b2ad11ea-c66c-4cf6-9edf-24dea953a274"
      },
      "execution_count": 23,
      "outputs": [
        {
          "output_type": "execute_result",
          "data": {
            "text/plain": [
              "NeuralNet(\n",
              "  (fc): Sequential(\n",
              "    (0): Linear(in_features=753, out_features=100, bias=True)\n",
              "    (1): Dropout(p=0.5, inplace=False)\n",
              "    (2): ReLU()\n",
              "    (3): Linear(in_features=100, out_features=50, bias=True)\n",
              "    (4): Dropout(p=0.2, inplace=False)\n",
              "    (5): ReLU()\n",
              "    (6): Linear(in_features=50, out_features=1, bias=True)\n",
              "    (7): Sigmoid()\n",
              "  )\n",
              ")"
            ]
          },
          "metadata": {},
          "execution_count": 23
        }
      ]
    },
    {
      "cell_type": "markdown",
      "source": [
        "Let's train our model."
      ],
      "metadata": {
        "id": "PoMQsrvT5PxZ"
      }
    },
    {
      "cell_type": "code",
      "source": [
        "train_loss, train_acc  = [], []\n",
        "\n",
        "for epoch in range(num_epoch):\n",
        "  train_loss, train_acc = train_fun(model, train_loader)\n",
        "  writer.flush()   \n",
        "  scheduler.step()"
      ],
      "metadata": {
        "id": "3Tj67A89-C8a",
        "colab": {
          "base_uri": "https://localhost:8080/"
        },
        "outputId": "d9074562-5115-4410-f5b3-8690cc1b2deb"
      },
      "execution_count": 24,
      "outputs": [
        {
          "output_type": "stream",
          "name": "stderr",
          "text": [
            ""
          ]
        }
      ]
    },
    {
      "cell_type": "code",
      "source": [
        "torch.save(model, '/content/drive/MyDrive/ML_Dr.sajedi/mlp') # model1 with 10 epochs"
      ],
      "metadata": {
        "id": "OYqy6aOQESOc"
      },
      "execution_count": null,
      "outputs": []
    },
    {
      "cell_type": "code",
      "source": [
        "#Training and validation loss\n",
        "plt.plot(train_loss, label='Training loss')\n",
        "plt.legend(frameon=False)\n",
        "plt.xlabel('epoch')\n",
        "plt.ylabel('loss value')\n",
        "plt.title(\"Loss function for each epoch\") \n",
        "plt.show()\n"
      ],
      "metadata": {
        "colab": {
          "base_uri": "https://localhost:8080/",
          "height": 295
        },
        "id": "DikwEQY6FCsA",
        "outputId": "cd3e8050-b6d3-4635-99d8-dbad8b41100f"
      },
      "execution_count": 25,
      "outputs": [
        {
          "output_type": "display_data",
          "data": {
            "image/png": "[encoded data removed]",
            "text/plain": [
              "<Figure size 432x288 with 1 Axes>"
            ]
          },
          "metadata": {
            "needs_background": "light"
          }
        }
      ]
    },
    {
      "cell_type": "code",
      "source": [
        "#Training and validation accuracy\n",
        "plt.plot(train_acc, label='Training accuracy')\n",
        "plt.legend(frameon=False)\n",
        "plt.xlabel('epoch')\n",
        "plt.ylabel('accuracy value')\n",
        "plt.title(\"Accuracy for each epoch\")\n",
        "plt.show()"
      ],
      "metadata": {
        "colab": {
          "base_uri": "https://localhost:8080/",
          "height": 295
        },
        "id": "DQkj-vN2FEpS",
        "outputId": "9840896a-f0f9-44b6-e113-a98099d1cf9d"
      },
      "execution_count": 26,
      "outputs": [
        {
          "output_type": "display_data",
          "data": {
            "image/png": "[encoded data removed]",
            "text/plain": [
              "<Figure size 432x288 with 1 Axes>"
            ]
          },
          "metadata": {
            "needs_background": "light"
          }
        }
      ]
    },
    {
      "cell_type": "code",
      "source": [
        "print(f'training loss on last epoch : {train_loss[-1]}')\n",
        "# print(f'validation loss on last epoch : {valid_loss[-1]}')\n",
        "print('-'*20)\n",
        "print(f'training accuracy on last epoch : {train_acc[-1]}')\n",
        "# print(f'validation accuracy on last epoch : {valid_acc[-1]}')"
      ],
      "metadata": {
        "colab": {
          "base_uri": "https://localhost:8080/"
        },
        "id": "ZSb16c2WFhdy",
        "outputId": "3da398ed-7f5b-4511-a8c5-d5e6fb694f4d"
      },
      "execution_count": 27,
      "outputs": [
        {
          "output_type": "stream",
          "name": "stdout",
          "text": [
            "training loss on last epoch : 0.19836874080241704\n",
            "--------------------\n",
            "training accuracy on last epoch : 92.62295081967213\n"
          ]
        }
      ]
    },
    {
      "cell_type": "markdown",
      "source": [
        "### Test the model"
      ],
      "metadata": {
        "id": "o_InCeeFQurL"
      }
    },
    {
      "cell_type": "code",
      "source": [
        "num_class =2\n",
        "classes = ['0', '1']\n",
        "\n",
        "y_pred_test, y_actual_test = test(model, test_loader)"
      ],
      "metadata": {
        "colab": {
          "base_uri": "https://localhost:8080/"
        },
        "id": "2CiNYoHhHliQ",
        "outputId": "c1b621d5-10a5-4a3c-dd31-c76a5c29b166"
      },
      "execution_count": 28,
      "outputs": [
        {
          "output_type": "stream",
          "name": "stdout",
          "text": [
            "accuracy of network on the 16 data is : 84.21052551269531\n",
            "Accuracy of 0: 58.97435897435897 %\n",
            "Accuracy of 1: 92.92035398230088 %\n"
          ]
        }
      ]
    },
    {
      "cell_type": "code",
      "source": [
        "confusion_matrix(y_actual_test, y_pred_test)"
      ],
      "metadata": {
        "colab": {
          "base_uri": "https://localhost:8080/",
          "height": 295
        },
        "id": "DDK3z92HHwGT",
        "outputId": "c07bfb9a-14b1-4c23-f609-ef40ecd6c856"
      },
      "execution_count": 29,
      "outputs": [
        {
          "output_type": "display_data",
          "data": {
            "image/png": "[encoded data removed]",
            "text/plain": [
              "<Figure size 432x288 with 2 Axes>"
            ]
          },
          "metadata": {
            "needs_background": "light"
          }
        }
      ]
    },
    {
      "cell_type": "code",
      "source": [
        "print(classification_report(y_actual_test, y_pred_test))"
      ],
      "metadata": {
        "colab": {
          "base_uri": "https://localhost:8080/"
        },
        "id": "-WS5EKozH54j",
        "outputId": "ad7c9893-e8d5-498b-d35c-ff338351beb2"
      },
      "execution_count": 30,
      "outputs": [
        {
          "output_type": "stream",
          "name": "stdout",
          "text": [
            "              precision    recall  f1-score   support\n",
            "\n",
            "         0.0       0.74      0.59      0.66        39\n",
            "         1.0       0.87      0.93      0.90       113\n",
            "\n",
            "    accuracy                           0.84       152\n",
            "   macro avg       0.80      0.76      0.78       152\n",
            "weighted avg       0.84      0.84      0.84       152\n",
            "\n"
          ]
        }
      ]
    },
    {
      "cell_type": "markdown",
      "source": [
        "## Autoencoder"
      ],
      "metadata": {
        "id": "-sdp126V_ODK"
      }
    },
    {
      "cell_type": "markdown",
      "source": [
        "### Create Model"
      ],
      "metadata": {
        "id": "_9I1cYswQTpx"
      }
    },
    {
      "cell_type": "markdown",
      "source": [
        "In this section we use train and test loader from previous section."
      ],
      "metadata": {
        "id": "itht7UCACncT"
      }
    },
    {
      "cell_type": "code",
      "source": [
        "# 753 ==> 9 ==> 753 \n",
        "class Autoencoder(nn.Module):\n",
        "    def __init__(self, input_size):\n",
        "        super(Autoencoder, self).__init__()\n",
        "        # Create linear encoder with Linear layer followed by Relu activation function\n",
        "        self.encoder = nn.Sequential(\n",
        "            torch.nn.Linear(input_size, 128),\n",
        "            torch.nn.ReLU(),\n",
        "            torch.nn.Linear(128, 64),\n",
        "            torch.nn.ReLU(),\n",
        "            torch.nn.Linear(64, 36),\n",
        "            torch.nn.ReLU(),\n",
        "            torch.nn.Linear(36, 18),\n",
        "            torch.nn.ReLU(),\n",
        "            torch.nn.Linear(18, 9)\n",
        "        )\n",
        "          \n",
        "        # Create linear decoder with Linear layer followed by Relu activation function\n",
        "        self.decoder = nn.Sequential(\n",
        "            torch.nn.Linear(9, 18),\n",
        "            torch.nn.ReLU(),\n",
        "            torch.nn.Linear(18, 36),\n",
        "            torch.nn.ReLU(),\n",
        "            torch.nn.Linear(36, 64),\n",
        "            torch.nn.ReLU(),\n",
        "            torch.nn.Linear(64, 128),\n",
        "            torch.nn.ReLU(),\n",
        "            torch.nn.Linear(128, input_size),\n",
        "            torch.nn.ReLU()\n",
        "        )\n",
        "  \n",
        "    def forward(self, x):\n",
        "        encoded = self.encoder(x)\n",
        "        decoded = self.decoder(encoded)\n",
        "        return encoded, decoded"
      ],
      "metadata": {
        "id": "TPzU3u3aFluH"
      },
      "execution_count": null,
      "outputs": []
    },
    {
      "cell_type": "markdown",
      "source": [
        "Because we return two values in forward function we should change train, evaluate and test function a little. In autoencoders we don't need accuracy."
      ],
      "metadata": {
        "id": "BJCqvV_6snaW"
      }
    },
    {
      "cell_type": "code",
      "source": [
        "# define a function for training a model\n",
        "def train_ae(model1, train_loader):\n",
        "  train_epoch_loss = 0\n",
        "  model1.train() # train the model\n",
        "  loop = tqdm(enumerate(train_loader), total = total_step, leave = False)\n",
        "\n",
        "  for i, batch in loop:\n",
        "    optimizer.zero_grad()\n",
        "    x, y = batch # retrieve x and y\n",
        "    x = x.to(device)\n",
        "    _, x_pred = model1(x)\n",
        "    loss_train = criterion(x_pred, x)\n",
        "    loss_train.backward()\n",
        "    optimizer.step()\n",
        "\n",
        "    train_epoch_loss += loss_train.item()\n",
        "    loop.set_description(f'Epoch : [{epoch}/{num_epoch}]')\n",
        "    loop.set_postfix(loss = loss_train.item()) \n",
        "  \n",
        "  train_loss.append(train_epoch_loss/len(train_loader)) \n",
        "      \n",
        "  # if you want to monitor your model in tensorboard   \n",
        "  writer.add_scalar('training loss',train_epoch_loss/len(train_loader) , epoch)\n",
        "  return train_loss\n",
        "\n",
        "# define a function for evaluating model\n",
        "def evaluate_ae(model1, valid_loader):\n",
        "  with torch.no_grad():\n",
        "    model1.eval()\n",
        "    val_epoch_loss = 0\n",
        "\n",
        "    for batch in valid_loader:\n",
        "      x, y = batch\n",
        "      x = x.to(device)\n",
        "      _, x_pred_val = model1(x)\n",
        "      loss_valid = criterion(x_pred_val, x)\n",
        "      val_epoch_loss += loss_valid.item()\n",
        "\n",
        "    valid_loss.append(val_epoch_loss/len(valid_loader)) \n",
        "\n",
        "    writer.add_scalar('validation loss',val_epoch_loss/len(valid_loader) , epoch)\n",
        "  return valid_loss"
      ],
      "metadata": {
        "id": "gE2Yjo6TsmaA"
      },
      "execution_count": null,
      "outputs": []
    },
    {
      "cell_type": "markdown",
      "source": [
        "### Parameter tuning using Cross validation"
      ],
      "metadata": {
        "id": "TskwIsifQ8Me"
      }
    },
    {
      "cell_type": "code",
      "source": [
        "input_size = X.shape[1]\n",
        "num_epoch = 2\n",
        "learning_rate = 0.01"
      ],
      "metadata": {
        "id": "NgHt15StzTOV"
      },
      "execution_count": null,
      "outputs": []
    },
    {
      "cell_type": "code",
      "source": [
        "from torch.utils.tensorboard import SummaryWriter\n",
        "writer = SummaryWriter('parkinson_ae')"
      ],
      "metadata": {
        "id": "FaO2wcpczelG"
      },
      "execution_count": null,
      "outputs": []
    },
    {
      "cell_type": "code",
      "source": [
        "# %reload_ext tensorboard\n",
        "# %tensorboard --logdir 'parkinson_ae'"
      ],
      "metadata": {
        "id": "wVIOpX4tzib0"
      },
      "execution_count": null,
      "outputs": []
    },
    {
      "cell_type": "code",
      "source": [
        "fold = StratifiedKFold(5) # shuffle false because we shuffled data in splitting train and test section\n",
        "\n",
        "for fold, (train_ids, valid_ids) in enumerate(fold.split(X_train, y_train)):\n",
        "  # sample elements randomly from a give list of ids, no replacement\n",
        "  train_subsampler = torch.utils.data.SubsetRandomSampler(train_ids)\n",
        "  valid_subsampler = torch.utils.data.SubsetRandomSampler(valid_ids)\n",
        "\n",
        "  # create dataloader for train and valid data in this fold\n",
        "  trainloader = torch.utils.data.DataLoader(train_data, batch_size=BATCH_SIZE, sampler=train_subsampler)\n",
        "  validloader = torch.utils.data.DataLoader(train_data, batch_size=BATCH_SIZE, sampler=valid_subsampler)\n",
        "\n",
        "  model = Autoencoder(input_size)\n",
        "  optimizer = torch.optim.Adam(model.parameters(), lr= learning_rate)\n",
        "  criterion = nn.MSELoss()\n",
        "  scheduler = lr_scheduler.StepLR(optimizer, 2, gamma=0.7)\n",
        "\n",
        "  total_step = len(trainloader)\n",
        "  train_loss, valid_loss = [], []\n",
        "\n",
        "  for epoch in range(num_epoch):\n",
        "    train_loss = train_ae(model, trainloader)\n",
        "    writer.flush() \n",
        "    valid_loss = evaluate_ae(model, validloader)   \n",
        "    print(f'fold {fold} => train loss : {train_loss[-1]:0.2f}| valid loss : {valid_loss[-1]:0.2f}')\n",
        "    scheduler.step()"
      ],
      "metadata": {
        "colab": {
          "base_uri": "https://localhost:8080/"
        },
        "id": "K-xIvTYAwbRg",
        "outputId": "3ffea04f-7d68-456a-f980-21b4dd378b0d"
      },
      "execution_count": null,
      "outputs": [
        {
          "output_type": "stream",
          "name": "stderr",
          "text": [
            ""
          ]
        },
        {
          "output_type": "stream",
          "name": "stdout",
          "text": [
            "fold 0 => train loss : 0.94| valid loss : 1.05\n"
          ]
        },
        {
          "output_type": "stream",
          "name": "stderr",
          "text": [
            ""
          ]
        },
        {
          "output_type": "stream",
          "name": "stdout",
          "text": [
            "fold 0 => train loss : 0.92| valid loss : 1.04\n"
          ]
        },
        {
          "output_type": "stream",
          "name": "stderr",
          "text": [
            ""
          ]
        },
        {
          "output_type": "stream",
          "name": "stdout",
          "text": [
            "fold 1 => train loss : 0.97| valid loss : 1.04\n"
          ]
        },
        {
          "output_type": "stream",
          "name": "stderr",
          "text": [
            ""
          ]
        },
        {
          "output_type": "stream",
          "name": "stdout",
          "text": [
            "fold 1 => train loss : 0.96| valid loss : 1.14\n"
          ]
        },
        {
          "output_type": "stream",
          "name": "stderr",
          "text": [
            ""
          ]
        },
        {
          "output_type": "stream",
          "name": "stdout",
          "text": [
            "fold 2 => train loss : 1.02| valid loss : 0.84\n"
          ]
        },
        {
          "output_type": "stream",
          "name": "stderr",
          "text": [
            ""
          ]
        },
        {
          "output_type": "stream",
          "name": "stdout",
          "text": [
            "fold 2 => train loss : 1.01| valid loss : 0.83\n"
          ]
        },
        {
          "output_type": "stream",
          "name": "stderr",
          "text": [
            ""
          ]
        },
        {
          "output_type": "stream",
          "name": "stdout",
          "text": [
            "fold 3 => train loss : 0.98| valid loss : 0.95\n"
          ]
        },
        {
          "output_type": "stream",
          "name": "stderr",
          "text": [
            ""
          ]
        },
        {
          "output_type": "stream",
          "name": "stdout",
          "text": [
            "fold 3 => train loss : 0.96| valid loss : 0.96\n"
          ]
        },
        {
          "output_type": "stream",
          "name": "stderr",
          "text": [
            ""
          ]
        },
        {
          "output_type": "stream",
          "name": "stdout",
          "text": [
            "fold 4 => train loss : 0.99| valid loss : 0.89\n"
          ]
        },
        {
          "output_type": "stream",
          "name": "stderr",
          "text": [
            ""
          ]
        },
        {
          "output_type": "stream",
          "name": "stdout",
          "text": [
            "fold 4 => train loss : 0.98| valid loss : 0.88\n"
          ]
        }
      ]
    },
    {
      "cell_type": "code",
      "source": [
        "# create model\n",
        "model = Autoencoder(input_size)\n",
        "\n",
        "# create loss and optimizer\n",
        "criterion = nn.MSELoss()\n",
        "optimizer = torch.optim.Adam(model.parameters(), lr= learning_rate)\n",
        "scheduler = lr_scheduler.StepLR(optimizer, 2, gamma=0.7)\n",
        "total_step = len(train_loader)"
      ],
      "metadata": {
        "id": "0gaFWPO9zqtG"
      },
      "execution_count": null,
      "outputs": []
    },
    {
      "cell_type": "code",
      "source": [
        "model"
      ],
      "metadata": {
        "colab": {
          "base_uri": "https://localhost:8080/"
        },
        "id": "LLLQUF3S0G7p",
        "outputId": "563a1d4b-ba1b-4829-92c9-4c251dc8a5f7"
      },
      "execution_count": null,
      "outputs": [
        {
          "output_type": "execute_result",
          "data": {
            "text/plain": [
              "Autoencoder(\n",
              "  (encoder): Sequential(\n",
              "    (0): Linear(in_features=753, out_features=128, bias=True)\n",
              "    (1): ReLU()\n",
              "    (2): Linear(in_features=128, out_features=64, bias=True)\n",
              "    (3): ReLU()\n",
              "    (4): Linear(in_features=64, out_features=36, bias=True)\n",
              "    (5): ReLU()\n",
              "    (6): Linear(in_features=36, out_features=18, bias=True)\n",
              "    (7): ReLU()\n",
              "    (8): Linear(in_features=18, out_features=9, bias=True)\n",
              "  )\n",
              "  (decoder): Sequential(\n",
              "    (0): Linear(in_features=9, out_features=18, bias=True)\n",
              "    (1): ReLU()\n",
              "    (2): Linear(in_features=18, out_features=36, bias=True)\n",
              "    (3): ReLU()\n",
              "    (4): Linear(in_features=36, out_features=64, bias=True)\n",
              "    (5): ReLU()\n",
              "    (6): Linear(in_features=64, out_features=128, bias=True)\n",
              "    (7): ReLU()\n",
              "    (8): Linear(in_features=128, out_features=753, bias=True)\n",
              "    (9): ReLU()\n",
              "  )\n",
              ")"
            ]
          },
          "metadata": {},
          "execution_count": 57
        }
      ]
    },
    {
      "cell_type": "markdown",
      "source": [
        "### Train the model"
      ],
      "metadata": {
        "id": "YauJbCxbREiF"
      }
    },
    {
      "cell_type": "markdown",
      "source": [
        "Let's test the model."
      ],
      "metadata": {
        "id": "NwhIyNLWGuSC"
      }
    },
    {
      "cell_type": "code",
      "source": [
        "train_loss = []\n",
        "\n",
        "for epoch in range(num_epoch):\n",
        "  train_loss = train_ae(model, train_loader)\n",
        "  writer.flush()   \n",
        "  scheduler.step()"
      ],
      "metadata": {
        "colab": {
          "base_uri": "https://localhost:8080/"
        },
        "id": "GI61uO4N0ADH",
        "outputId": "60508630-79df-4efb-fbf6-ee05ae6ef466"
      },
      "execution_count": null,
      "outputs": [
        {
          "output_type": "stream",
          "name": "stderr",
          "text": [
            ""
          ]
        }
      ]
    },
    {
      "cell_type": "code",
      "source": [
        "train_loss"
      ],
      "metadata": {
        "colab": {
          "base_uri": "https://localhost:8080/"
        },
        "id": "bkEhcIF2Emk7",
        "outputId": "84f60dc1-ca80-4010-c553-6894720ff129"
      },
      "execution_count": null,
      "outputs": [
        {
          "output_type": "execute_result",
          "data": {
            "text/plain": [
              "[0.9790549732622553, 0.9647887779063866]"
            ]
          },
          "metadata": {},
          "execution_count": 59
        }
      ]
    },
    {
      "cell_type": "markdown",
      "source": [
        "### How about test the mdoel????????? for the ae part"
      ],
      "metadata": {
        "id": "VySqFJ52RRt2"
      }
    },
    {
      "cell_type": "markdown",
      "source": [
        "let's save the best model."
      ],
      "metadata": {
        "id": "2tMo_UlKGrZT"
      }
    },
    {
      "cell_type": "code",
      "source": [
        "PATH = \"autoencoder.pt\"\n",
        "# Save\n",
        "torch.save(model.state_dict(), PATH)"
      ],
      "metadata": {
        "id": "y-4FbHfLFCzE"
      },
      "execution_count": null,
      "outputs": []
    },
    {
      "cell_type": "code",
      "source": [
        "# model.state_dict()"
      ],
      "metadata": {
        "id": "32L-EjwWX6mA"
      },
      "execution_count": null,
      "outputs": []
    },
    {
      "cell_type": "markdown",
      "source": [
        "### Autoencoder feature extraction for classification"
      ],
      "metadata": {
        "id": "cjj1m_LMHKC1"
      }
    },
    {
      "cell_type": "markdown",
      "source": [
        "Let's load the pretrained autoencoder to use it for classification."
      ],
      "metadata": {
        "id": "e_ddzwiCHFWw"
      }
    },
    {
      "cell_type": "code",
      "source": [
        "AE = Autoencoder(input_size)\n",
        "AE.load_state_dict(torch.load('/content/drive/MyDrive/ML_Dr.sajedi/autoencoder.pt'))"
      ],
      "metadata": {
        "colab": {
          "base_uri": "https://localhost:8080/"
        },
        "id": "HOVx5D5IFRRR",
        "outputId": "38ad6d56-cfd7-4eea-cb53-21ba15f84177"
      },
      "execution_count": null,
      "outputs": [
        {
          "output_type": "execute_result",
          "data": {
            "text/plain": [
              "<All keys matched successfully>"
            ]
          },
          "metadata": {},
          "execution_count": 62
        }
      ]
    },
    {
      "cell_type": "markdown",
      "source": [
        "#### Create classification part"
      ],
      "metadata": {
        "id": "NEBjsiPDRZRe"
      }
    },
    {
      "cell_type": "code",
      "source": [
        "class Classification_MLP(nn.Module):\n",
        "    def __init__(self, input_size):\n",
        "        super().__init__()\n",
        "        self.AE = Autoencoder(input_size)\n",
        "        self.AE.load_state_dict(torch.load('/content/drive/MyDrive/ML_Dr.sajedi/autoencoder.pt'))\n",
        "        self.classifier = nn.Sequential(nn.Linear(9,1), nn.Sigmoid())\n",
        "\n",
        "    def forward(self, input):\n",
        "        encoded, decoded = self.AE(input)\n",
        "        output = self.classifier(encoded)\n",
        "        return output"
      ],
      "metadata": {
        "id": "uynhuolvRmBP"
      },
      "execution_count": null,
      "outputs": []
    },
    {
      "cell_type": "markdown",
      "source": [
        "#### Parameter tuning for classifier using Cross Validation"
      ],
      "metadata": {
        "id": "bFB5lpauRc_0"
      }
    },
    {
      "cell_type": "markdown",
      "source": [
        "Let's evaluate out model using Kfold CV."
      ],
      "metadata": {
        "id": "NjowaEvcI9YH"
      }
    },
    {
      "cell_type": "code",
      "source": [
        "fold = StratifiedKFold(5) # shuffle false because we shuffled data in splitting train and test section\n",
        "cv_scores = {'Accuracy' : []}\n",
        "\n",
        "for fold, (train_ids, valid_ids) in enumerate(fold.split(X_train, y_train)):\n",
        "  # sample elements randomly from a give list of ids, no replacement\n",
        "  train_subsampler = torch.utils.data.SubsetRandomSampler(train_ids)\n",
        "  valid_subsampler = torch.utils.data.SubsetRandomSampler(valid_ids)\n",
        "\n",
        "  # create dataloader for train and valid data in this fold\n",
        "  trainloader = torch.utils.data.DataLoader(train_data, batch_size=BATCH_SIZE, sampler=train_subsampler)\n",
        "  validloader = torch.utils.data.DataLoader(train_data, batch_size=BATCH_SIZE, sampler=valid_subsampler)\n",
        "\n",
        "  model = Classification_MLP(input_size)\n",
        "  optimizer = torch.optim.Adam(model.parameters(), lr= learning_rate)\n",
        "  criterion = nn.BCELoss()\n",
        "  scheduler = lr_scheduler.StepLR(optimizer, 2, gamma=0.7)\n",
        "\n",
        "  total_step = len(trainloader)\n",
        "  train_loss, valid_loss = [], []\n",
        "  train_acc, valid_acc = [], []\n",
        "\n",
        "  for epoch in range(num_epoch):\n",
        "    train_loss, train_acc = train_fun(model, trainloader)\n",
        "    writer.flush() \n",
        "    valid_loss, valid_acc = evaluate(model, validloader)   \n",
        "    print(f'fold {fold} => train acc : {train_acc[-1]:0.2f}| train loss : {train_loss[-1]:0.2f}| valid acc : {valid_acc[-1]:0.2f}| valid loss : {valid_loss[-1]:0.2f}')\n",
        "    scheduler.step()\n",
        "\n",
        "  cv_scores['Accuracy'].append(valid_acc[-1])\n"
      ],
      "metadata": {
        "colab": {
          "base_uri": "https://localhost:8080/"
        },
        "id": "d5hXHMh3I8PI",
        "outputId": "1c23908b-3a3a-46be-8ae4-98ca40cf85b4"
      },
      "execution_count": null,
      "outputs": [
        {
          "output_type": "stream",
          "name": "stderr",
          "text": [
            ""
          ]
        },
        {
          "output_type": "stream",
          "name": "stdout",
          "text": [
            "fold 0 => train acc : 74.29| train loss : 0.58| valid acc : 83.08| valid loss : 0.34\n"
          ]
        },
        {
          "output_type": "stream",
          "name": "stderr",
          "text": [
            ""
          ]
        },
        {
          "output_type": "stream",
          "name": "stdout",
          "text": [
            "fold 0 => train acc : 82.45| train loss : 0.41| valid acc : 88.46| valid loss : 0.25\n"
          ]
        },
        {
          "output_type": "stream",
          "name": "stderr",
          "text": [
            ""
          ]
        },
        {
          "output_type": "stream",
          "name": "stdout",
          "text": [
            "fold 1 => train acc : 79.59| train loss : 0.51| valid acc : 83.85| valid loss : 0.38\n"
          ]
        },
        {
          "output_type": "stream",
          "name": "stderr",
          "text": [
            ""
          ]
        },
        {
          "output_type": "stream",
          "name": "stdout",
          "text": [
            "fold 1 => train acc : 87.14| train loss : 0.32| valid acc : 87.69| valid loss : 0.31\n"
          ]
        },
        {
          "output_type": "stream",
          "name": "stderr",
          "text": [
            ""
          ]
        },
        {
          "output_type": "stream",
          "name": "stdout",
          "text": [
            "fold 2 => train acc : 70.82| train loss : 0.51| valid acc : 76.15| valid loss : 0.41\n"
          ]
        },
        {
          "output_type": "stream",
          "name": "stderr",
          "text": [
            ""
          ]
        },
        {
          "output_type": "stream",
          "name": "stdout",
          "text": [
            "fold 2 => train acc : 79.33| train loss : 0.41| valid acc : 83.08| valid loss : 0.43\n"
          ]
        },
        {
          "output_type": "stream",
          "name": "stderr",
          "text": [
            ""
          ]
        },
        {
          "output_type": "stream",
          "name": "stdout",
          "text": [
            "fold 3 => train acc : 70.00| train loss : 0.60| valid acc : 69.23| valid loss : 0.52\n"
          ]
        },
        {
          "output_type": "stream",
          "name": "stderr",
          "text": [
            ""
          ]
        },
        {
          "output_type": "stream",
          "name": "stdout",
          "text": [
            "fold 3 => train acc : 79.86| train loss : 0.42| valid acc : 77.69| valid loss : 0.49\n"
          ]
        },
        {
          "output_type": "stream",
          "name": "stderr",
          "text": [
            ""
          ]
        },
        {
          "output_type": "stream",
          "name": "stdout",
          "text": [
            "fold 4 => train acc : 74.80| train loss : 1.12| valid acc : 78.33| valid loss : 0.49\n"
          ]
        },
        {
          "output_type": "stream",
          "name": "stderr",
          "text": [
            ""
          ]
        },
        {
          "output_type": "stream",
          "name": "stdout",
          "text": [
            "fold 4 => train acc : 85.71| train loss : 0.36| valid acc : 82.50| valid loss : 0.46\n"
          ]
        }
      ]
    },
    {
      "cell_type": "code",
      "source": [
        "mean_cv_scores = {k: np.mean(v) for k, v in cv_scores.items()}  \n",
        "print(f\"mean accuracy using 5 foldCV : {mean_cv_scores['Accuracy']:0.2f}\")"
      ],
      "metadata": {
        "colab": {
          "base_uri": "https://localhost:8080/"
        },
        "id": "sF0ncx4mMkGn",
        "outputId": "d2710df8-57a1-45b0-f468-5f6fde36b9f6"
      },
      "execution_count": null,
      "outputs": [
        {
          "output_type": "stream",
          "name": "stdout",
          "text": [
            "mean accuracy using 5 foldCV : 83.88\n"
          ]
        }
      ]
    },
    {
      "cell_type": "markdown",
      "source": [
        "#### Train the model (AE + Classifier)"
      ],
      "metadata": {
        "id": "EULYxDNZRlEq"
      }
    },
    {
      "cell_type": "code",
      "source": [
        "# create model\n",
        "ae_mlp = Classification_MLP(input_size)\n",
        "\n",
        "# create loss and optimizer\n",
        "criterion = nn.BCELoss()\n",
        "optimizer = torch.optim.Adam(ae_mlp.parameters(), lr= learning_rate)\n",
        "scheduler = lr_scheduler.StepLR(optimizer, 2, gamma=0.7)\n",
        "total_step = len(train_loader)"
      ],
      "metadata": {
        "id": "YHplNgnMIiJD"
      },
      "execution_count": null,
      "outputs": []
    },
    {
      "cell_type": "code",
      "source": [
        "ae_mlp"
      ],
      "metadata": {
        "colab": {
          "base_uri": "https://localhost:8080/"
        },
        "id": "A-g8tta6MzP_",
        "outputId": "d409a92b-1884-44bc-bddb-4d00d1404652"
      },
      "execution_count": null,
      "outputs": [
        {
          "output_type": "execute_result",
          "data": {
            "text/plain": [
              "Classification_MLP(\n",
              "  (AE): Autoencoder(\n",
              "    (encoder): Sequential(\n",
              "      (0): Linear(in_features=753, out_features=128, bias=True)\n",
              "      (1): ReLU()\n",
              "      (2): Linear(in_features=128, out_features=64, bias=True)\n",
              "      (3): ReLU()\n",
              "      (4): Linear(in_features=64, out_features=36, bias=True)\n",
              "      (5): ReLU()\n",
              "      (6): Linear(in_features=36, out_features=18, bias=True)\n",
              "      (7): ReLU()\n",
              "      (8): Linear(in_features=18, out_features=9, bias=True)\n",
              "    )\n",
              "    (decoder): Sequential(\n",
              "      (0): Linear(in_features=9, out_features=18, bias=True)\n",
              "      (1): ReLU()\n",
              "      (2): Linear(in_features=18, out_features=36, bias=True)\n",
              "      (3): ReLU()\n",
              "      (4): Linear(in_features=36, out_features=64, bias=True)\n",
              "      (5): ReLU()\n",
              "      (6): Linear(in_features=64, out_features=128, bias=True)\n",
              "      (7): ReLU()\n",
              "      (8): Linear(in_features=128, out_features=753, bias=True)\n",
              "      (9): ReLU()\n",
              "    )\n",
              "  )\n",
              "  (classifier): Sequential(\n",
              "    (0): Linear(in_features=9, out_features=1, bias=True)\n",
              "    (1): Sigmoid()\n",
              "  )\n",
              ")"
            ]
          },
          "metadata": {},
          "execution_count": 77
        }
      ]
    },
    {
      "cell_type": "code",
      "source": [
        "train_loss, train_acc  = [], []\n",
        "\n",
        "for epoch in range(num_epoch):\n",
        "  train_loss, train_acc = train_fun(ae_mlp, train_loader)\n",
        "  writer.flush()   \n",
        "  scheduler.step()"
      ],
      "metadata": {
        "colab": {
          "base_uri": "https://localhost:8080/"
        },
        "id": "P2q2YTm9M0mv",
        "outputId": "c2bdc600-fbef-42e3-b3b4-27d3b8462104"
      },
      "execution_count": null,
      "outputs": [
        {
          "output_type": "stream",
          "name": "stderr",
          "text": [
            ""
          ]
        }
      ]
    },
    {
      "cell_type": "code",
      "source": [
        "torch.save(model, '/content/drive/MyDrive/ML_Dr.sajedi/ae_mlp') # model1 with 10 epochs"
      ],
      "metadata": {
        "id": "65ziz9dwNOc4"
      },
      "execution_count": null,
      "outputs": []
    },
    {
      "cell_type": "code",
      "source": [
        "#Training and validation loss\n",
        "plt.plot(train_loss, label='Training loss')\n",
        "# plt.plot(valid_loss, label='Validation loss')\n",
        "plt.legend(frameon=False)\n",
        "plt.xlabel('epoch')\n",
        "plt.ylabel('loss value')\n",
        "plt.title(\"Loss function for each epoch\") \n",
        "plt.show()\n"
      ],
      "metadata": {
        "colab": {
          "base_uri": "https://localhost:8080/",
          "height": 295
        },
        "outputId": "065da6f4-4580-4513-b341-c05fd05305d5",
        "id": "-zDV3sSMNlqW"
      },
      "execution_count": null,
      "outputs": [
        {
          "output_type": "display_data",
          "data": {
            "image/png": "[encoded data removed]",
            "text/plain": [
              "<Figure size 432x288 with 1 Axes>"
            ]
          },
          "metadata": {
            "needs_background": "light"
          }
        }
      ]
    },
    {
      "cell_type": "code",
      "source": [
        "#Training and validation accuracy\n",
        "plt.plot(train_acc, label='Training accuracy')\n",
        "# plt.plot(valid_acc, label='Validation accuracy')\n",
        "plt.legend(frameon=False)\n",
        "plt.xlabel('epoch')\n",
        "plt.ylabel('accuracy value')\n",
        "plt.title(\"Accuracy for each epoch\")\n",
        "plt.show()"
      ],
      "metadata": {
        "colab": {
          "base_uri": "https://localhost:8080/",
          "height": 295
        },
        "outputId": "fe4a3af4-bfdf-48bf-c02e-df8d6cfb15d3",
        "id": "H_nJQyfsNlqa"
      },
      "execution_count": null,
      "outputs": [
        {
          "output_type": "display_data",
          "data": {
            "image/png": "[encoded data removed]",
            "text/plain": [
              "<Figure size 432x288 with 1 Axes>"
            ]
          },
          "metadata": {
            "needs_background": "light"
          }
        }
      ]
    },
    {
      "cell_type": "code",
      "source": [
        "print(f'training loss on last epoch : {train_loss[-1]}')\n",
        "# print(f'validation loss on last epoch : {valid_loss[-1]}')\n",
        "print('-'*20)\n",
        "print(f'training accuracy on last epoch : {train_acc[-1]}')\n",
        "# print(f'validation accuracy on last epoch : {valid_acc[-1]}')"
      ],
      "metadata": {
        "colab": {
          "base_uri": "https://localhost:8080/"
        },
        "outputId": "f9d6114e-cf70-4a11-d432-c97460a94436",
        "id": "a_FewTbwNlqc"
      },
      "execution_count": null,
      "outputs": [
        {
          "output_type": "stream",
          "name": "stdout",
          "text": [
            "training loss on last epoch : 0.35961004688602977\n",
            "--------------------\n",
            "training accuracy on last epoch : 82.95081967213115\n"
          ]
        }
      ]
    },
    {
      "cell_type": "markdown",
      "source": [
        "#### Test the model"
      ],
      "metadata": {
        "id": "ugPfFe5jRroG"
      }
    },
    {
      "cell_type": "code",
      "source": [
        "y_pred_test, y_actual_test = test(ae_mlp, test_loader)"
      ],
      "metadata": {
        "colab": {
          "base_uri": "https://localhost:8080/"
        },
        "outputId": "e9c2e89d-ce4d-40bd-8979-185c9e0f34a5",
        "id": "gz16ZNXQNlqe"
      },
      "execution_count": null,
      "outputs": [
        {
          "output_type": "stream",
          "name": "stdout",
          "text": [
            "accuracy of network on the 16 data is : 80.92105102539062\n",
            "Accuracy of 0: 61.53846153846154 %\n",
            "Accuracy of 1: 87.61061946902655 %\n"
          ]
        }
      ]
    },
    {
      "cell_type": "code",
      "source": [
        "confusion_matrix(y_actual_test, y_pred_test)"
      ],
      "metadata": {
        "colab": {
          "base_uri": "https://localhost:8080/",
          "height": 295
        },
        "outputId": "a9376857-8bef-4150-8788-89e816b3e632",
        "id": "YGWCxdKONlqf"
      },
      "execution_count": null,
      "outputs": [
        {
          "output_type": "display_data",
          "data": {
            "image/png": "[encoded data removed]",
            "text/plain": [
              "<Figure size 432x288 with 2 Axes>"
            ]
          },
          "metadata": {
            "needs_background": "light"
          }
        }
      ]
    },
    {
      "cell_type": "code",
      "source": [
        "print(classification_report(y_actual_test, y_pred_test))"
      ],
      "metadata": {
        "colab": {
          "base_uri": "https://localhost:8080/"
        },
        "outputId": "82912b08-88a4-4f85-e038-9f7236bbe742",
        "id": "vMm6Iz2SNlqg"
      },
      "execution_count": null,
      "outputs": [
        {
          "output_type": "stream",
          "name": "stdout",
          "text": [
            "              precision    recall  f1-score   support\n",
            "\n",
            "         0.0       0.63      0.62      0.62        39\n",
            "         1.0       0.87      0.88      0.87       113\n",
            "\n",
            "    accuracy                           0.81       152\n",
            "   macro avg       0.75      0.75      0.75       152\n",
            "weighted avg       0.81      0.81      0.81       152\n",
            "\n"
          ]
        }
      ]
    },
    {
      "cell_type": "code",
      "source": [
        "print(train_subsampler)"
      ],
      "metadata": {
        "colab": {
          "base_uri": "https://localhost:8080/"
        },
        "id": "dy5gcFDlV3Bj",
        "outputId": "72c2c14f-aa5b-4731-8c67-eb4f431b0ab9"
      },
      "execution_count": null,
      "outputs": [
        {
          "output_type": "stream",
          "name": "stdout",
          "text": [
            "<torch.utils.data.sampler.SubsetRandomSampler object at 0x7fe074d12090>\n"
          ]
        }
      ]
    },
    {
      "cell_type": "code",
      "source": [
        "len(trainloader)"
      ],
      "metadata": {
        "colab": {
          "base_uri": "https://localhost:8080/"
        },
        "id": "Mq-JbKbiaYA2",
        "outputId": "08387a2c-b30d-49db-fb54-1a28546596cc"
      },
      "execution_count": null,
      "outputs": [
        {
          "output_type": "execute_result",
          "data": {
            "text/plain": [
              "49"
            ]
          },
          "metadata": {},
          "execution_count": 92
        }
      ]
    },
    {
      "cell_type": "code",
      "source": [
        "len(validloader)"
      ],
      "metadata": {
        "colab": {
          "base_uri": "https://localhost:8080/"
        },
        "id": "HRdsnUBMcCr7",
        "outputId": "4cb208ca-9e4b-440e-bd25-3c79d593c56d"
      },
      "execution_count": null,
      "outputs": [
        {
          "output_type": "execute_result",
          "data": {
            "text/plain": [
              "12"
            ]
          },
          "metadata": {},
          "execution_count": 93
        }
      ]
    },
    {
      "cell_type": "code",
      "source": [
        ""
      ],
      "metadata": {
        "id": "TqNYBnA4cGFb"
      },
      "execution_count": null,
      "outputs": []
    }
  ]
}